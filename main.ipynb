{
 "cells": [
  {
   "cell_type": "markdown",
   "id": "5a7680e8-5caf-43b9-a478-ed882ff9ccd0",
   "metadata": {},
   "source": [
    "<h1> library </h1>"
   ]
  },
  {
   "cell_type": "code",
   "execution_count": 1,
   "id": "e68d0faa-cc28-4a5b-91e0-62dd76599bef",
   "metadata": {},
   "outputs": [],
   "source": [
    "import pandas as pd\n",
    "import numpy as np\n",
    "import os\n",
    "import torch\n",
    "import cv2 as cv\n",
    "import tensorflow\n",
    "import tensorboard\n",
    "import random\n",
    "\n",
    "from detectron2 import model_zoo\n",
    "from detectron2.structures import BoxMode\n",
    "from detectron2.data import DatasetCatalog, MetadataCatalog\n",
    "from detectron2.engine import DefaultTrainer\n",
    "from detectron2.config import get_cfg\n",
    "\n",
    "import warnings\n",
    "warnings.filterwarnings(\"ignore\")"
   ]
  },
  {
   "cell_type": "code",
   "execution_count": 2,
   "id": "b47f9d92-0455-4340-8523-1f95877104f6",
   "metadata": {},
   "outputs": [
    {
     "data": {
      "text/plain": [
       "True"
      ]
     },
     "execution_count": 2,
     "metadata": {},
     "output_type": "execute_result"
    }
   ],
   "source": [
    "torch.cuda.is_available()"
   ]
  },
  {
   "cell_type": "markdown",
   "id": "77163b45-f9c2-45df-8498-3335fc3bbb3b",
   "metadata": {},
   "source": [
    "<h1> importing annotation </h1>"
   ]
  },
  {
   "cell_type": "code",
   "execution_count": 3,
   "id": "d05eb660-4051-4a07-a1b6-aa03a469e76a",
   "metadata": {},
   "outputs": [],
   "source": [
    "path_train_annotation = 'dataset/annotations/wider_face_train_bbx_gt.txt'\n",
    "path_val_annotation = 'dataset/annotations/wider_face_val_bbx_gt.txt'\n",
    "\n",
    "train = pd.read_csv(path_train_annotation,header=None)\n",
    "val = pd.read_csv(path_val_annotation,header=None)"
   ]
  },
  {
   "cell_type": "markdown",
   "id": "a7514372-f706-474c-a690-62ca854d2ab3",
   "metadata": {},
   "source": [
    "<h1> reformating to dataframe </h1>"
   ]
  },
  {
   "cell_type": "code",
   "execution_count": 4,
   "id": "262ff33f-498c-431e-b3fb-041795d12308",
   "metadata": {},
   "outputs": [],
   "source": [
    "def reformat(df):\n",
    "    values = df[0].values\n",
    "    \n",
    "    names=[]\n",
    "    num_faces=[]\n",
    "    bbox=[]\n",
    "    \n",
    "    for i in range(len(values)):\n",
    "        if \".jpg\" in values[i]:\n",
    "            num=int(values[i+1])\n",
    "            names.append(values[i])\n",
    "            num_faces.append(num)\n",
    "            \n",
    "            box=[]\n",
    "            for j in range(i+2,i+2+num):\n",
    "                box.append(values[j])\n",
    "            \n",
    "            bbox.append(box)\n",
    "        \n",
    "    return pd.DataFrame({'name':names,\n",
    "                         'num_faces':num_faces,\n",
    "                         'bbox':bbox})"
   ]
  },
  {
   "cell_type": "code",
   "execution_count": 5,
   "id": "11c6ef8c-55c3-46bd-92d9-26f3e771939a",
   "metadata": {},
   "outputs": [],
   "source": [
    "train = reformat(train)\n",
    "val = reformat(val)"
   ]
  },
  {
   "cell_type": "code",
   "execution_count": 6,
   "id": "17e023c7-cd92-4d72-a532-6e1ba874c888",
   "metadata": {},
   "outputs": [
    {
     "data": {
      "text/html": [
       "<div>\n",
       "<style scoped>\n",
       "    .dataframe tbody tr th:only-of-type {\n",
       "        vertical-align: middle;\n",
       "    }\n",
       "\n",
       "    .dataframe tbody tr th {\n",
       "        vertical-align: top;\n",
       "    }\n",
       "\n",
       "    .dataframe thead th {\n",
       "        text-align: right;\n",
       "    }\n",
       "</style>\n",
       "<table border=\"1\" class=\"dataframe\">\n",
       "  <thead>\n",
       "    <tr style=\"text-align: right;\">\n",
       "      <th></th>\n",
       "      <th>name</th>\n",
       "      <th>num_faces</th>\n",
       "      <th>bbox</th>\n",
       "    </tr>\n",
       "  </thead>\n",
       "  <tbody>\n",
       "    <tr>\n",
       "      <th>0</th>\n",
       "      <td>0--Parade/0_Parade_marchingband_1_849.jpg</td>\n",
       "      <td>1</td>\n",
       "      <td>[449 330 122 149 0 0 0 0 0 0 ]</td>\n",
       "    </tr>\n",
       "    <tr>\n",
       "      <th>1</th>\n",
       "      <td>0--Parade/0_Parade_Parade_0_904.jpg</td>\n",
       "      <td>1</td>\n",
       "      <td>[361 98 263 339 0 0 0 0 0 0 ]</td>\n",
       "    </tr>\n",
       "    <tr>\n",
       "      <th>2</th>\n",
       "      <td>0--Parade/0_Parade_marchingband_1_799.jpg</td>\n",
       "      <td>21</td>\n",
       "      <td>[78 221 7 8 2 0 0 0 0 0 , 78 238 14 17 2 0 0 0...</td>\n",
       "    </tr>\n",
       "    <tr>\n",
       "      <th>3</th>\n",
       "      <td>0--Parade/0_Parade_marchingband_1_117.jpg</td>\n",
       "      <td>9</td>\n",
       "      <td>[69 359 50 36 1 0 0 0 0 1 , 227 382 56 43 1 0 ...</td>\n",
       "    </tr>\n",
       "    <tr>\n",
       "      <th>4</th>\n",
       "      <td>0--Parade/0_Parade_marchingband_1_778.jpg</td>\n",
       "      <td>35</td>\n",
       "      <td>[27 226 33 36 1 0 0 0 2 0 , 63 95 16 19 2 0 0 ...</td>\n",
       "    </tr>\n",
       "  </tbody>\n",
       "</table>\n",
       "</div>"
      ],
      "text/plain": [
       "                                        name  num_faces  \\\n",
       "0  0--Parade/0_Parade_marchingband_1_849.jpg          1   \n",
       "1        0--Parade/0_Parade_Parade_0_904.jpg          1   \n",
       "2  0--Parade/0_Parade_marchingband_1_799.jpg         21   \n",
       "3  0--Parade/0_Parade_marchingband_1_117.jpg          9   \n",
       "4  0--Parade/0_Parade_marchingband_1_778.jpg         35   \n",
       "\n",
       "                                                bbox  \n",
       "0                     [449 330 122 149 0 0 0 0 0 0 ]  \n",
       "1                      [361 98 263 339 0 0 0 0 0 0 ]  \n",
       "2  [78 221 7 8 2 0 0 0 0 0 , 78 238 14 17 2 0 0 0...  \n",
       "3  [69 359 50 36 1 0 0 0 0 1 , 227 382 56 43 1 0 ...  \n",
       "4  [27 226 33 36 1 0 0 0 2 0 , 63 95 16 19 2 0 0 ...  "
      ]
     },
     "execution_count": 6,
     "metadata": {},
     "output_type": "execute_result"
    }
   ],
   "source": [
    "train.head()"
   ]
  },
  {
   "cell_type": "code",
   "execution_count": 7,
   "id": "c8a05f46-d34f-497f-89ba-7ebc6fd4f60a",
   "metadata": {},
   "outputs": [
    {
     "data": {
      "text/html": [
       "<div>\n",
       "<style scoped>\n",
       "    .dataframe tbody tr th:only-of-type {\n",
       "        vertical-align: middle;\n",
       "    }\n",
       "\n",
       "    .dataframe tbody tr th {\n",
       "        vertical-align: top;\n",
       "    }\n",
       "\n",
       "    .dataframe thead th {\n",
       "        text-align: right;\n",
       "    }\n",
       "</style>\n",
       "<table border=\"1\" class=\"dataframe\">\n",
       "  <thead>\n",
       "    <tr style=\"text-align: right;\">\n",
       "      <th></th>\n",
       "      <th>name</th>\n",
       "      <th>num_faces</th>\n",
       "      <th>bbox</th>\n",
       "    </tr>\n",
       "  </thead>\n",
       "  <tbody>\n",
       "    <tr>\n",
       "      <th>0</th>\n",
       "      <td>0--Parade/0_Parade_marchingband_1_465.jpg</td>\n",
       "      <td>126</td>\n",
       "      <td>[345 211 4 4 2 0 0 0 2 0 , 331 126 3 3 0 0 0 1...</td>\n",
       "    </tr>\n",
       "    <tr>\n",
       "      <th>1</th>\n",
       "      <td>0--Parade/0_Parade_Parade_0_628.jpg</td>\n",
       "      <td>29</td>\n",
       "      <td>[26 299 10 16 2 0 0 0 2 0 , 25 329 7 11 2 0 0 ...</td>\n",
       "    </tr>\n",
       "    <tr>\n",
       "      <th>2</th>\n",
       "      <td>0--Parade/0_Parade_marchingband_1_765.jpg</td>\n",
       "      <td>132</td>\n",
       "      <td>[311 131 8 9 1 0 0 0 0 0 , 299 143 10 11 1 0 0...</td>\n",
       "    </tr>\n",
       "    <tr>\n",
       "      <th>3</th>\n",
       "      <td>0--Parade/0_Parade_Parade_0_194.jpg</td>\n",
       "      <td>5</td>\n",
       "      <td>[111 425 122 127 0 1 0 0 0 1 , 209 347 70 103 ...</td>\n",
       "    </tr>\n",
       "    <tr>\n",
       "      <th>4</th>\n",
       "      <td>0--Parade/0_Parade_marchingband_1_379.jpg</td>\n",
       "      <td>26</td>\n",
       "      <td>[281 303 20 36 2 0 0 0 2 0 , 260 324 16 21 2 0...</td>\n",
       "    </tr>\n",
       "  </tbody>\n",
       "</table>\n",
       "</div>"
      ],
      "text/plain": [
       "                                        name  num_faces  \\\n",
       "0  0--Parade/0_Parade_marchingband_1_465.jpg        126   \n",
       "1        0--Parade/0_Parade_Parade_0_628.jpg         29   \n",
       "2  0--Parade/0_Parade_marchingband_1_765.jpg        132   \n",
       "3        0--Parade/0_Parade_Parade_0_194.jpg          5   \n",
       "4  0--Parade/0_Parade_marchingband_1_379.jpg         26   \n",
       "\n",
       "                                                bbox  \n",
       "0  [345 211 4 4 2 0 0 0 2 0 , 331 126 3 3 0 0 0 1...  \n",
       "1  [26 299 10 16 2 0 0 0 2 0 , 25 329 7 11 2 0 0 ...  \n",
       "2  [311 131 8 9 1 0 0 0 0 0 , 299 143 10 11 1 0 0...  \n",
       "3  [111 425 122 127 0 1 0 0 0 1 , 209 347 70 103 ...  \n",
       "4  [281 303 20 36 2 0 0 0 2 0 , 260 324 16 21 2 0...  "
      ]
     },
     "execution_count": 7,
     "metadata": {},
     "output_type": "execute_result"
    }
   ],
   "source": [
    "val.head()"
   ]
  },
  {
   "cell_type": "markdown",
   "id": "00a3f951-d516-45e7-889f-c12a821456a5",
   "metadata": {},
   "source": [
    "<h1> Preprocessing Data Train </h1>"
   ]
  },
  {
   "cell_type": "code",
   "execution_count": 8,
   "id": "201fb03b-c70c-4e7d-8e75-5ce14e7f4428",
   "metadata": {},
   "outputs": [],
   "source": [
    "for i in train['name']:\n",
    "    name_jpg = str(i).rsplit('/')[1]\n",
    "    train['name'] = train['name'].replace({i:name_jpg})"
   ]
  },
  {
   "cell_type": "code",
   "execution_count": 9,
   "id": "8f46ce58-fb61-4317-ae77-2c5a67198fbe",
   "metadata": {},
   "outputs": [
    {
     "data": {
      "text/html": [
       "<div>\n",
       "<style scoped>\n",
       "    .dataframe tbody tr th:only-of-type {\n",
       "        vertical-align: middle;\n",
       "    }\n",
       "\n",
       "    .dataframe tbody tr th {\n",
       "        vertical-align: top;\n",
       "    }\n",
       "\n",
       "    .dataframe thead th {\n",
       "        text-align: right;\n",
       "    }\n",
       "</style>\n",
       "<table border=\"1\" class=\"dataframe\">\n",
       "  <thead>\n",
       "    <tr style=\"text-align: right;\">\n",
       "      <th></th>\n",
       "      <th>name</th>\n",
       "      <th>num_faces</th>\n",
       "      <th>bbox</th>\n",
       "    </tr>\n",
       "  </thead>\n",
       "  <tbody>\n",
       "    <tr>\n",
       "      <th>0</th>\n",
       "      <td>0_Parade_marchingband_1_849.jpg</td>\n",
       "      <td>1</td>\n",
       "      <td>[449 330 122 149 0 0 0 0 0 0 ]</td>\n",
       "    </tr>\n",
       "    <tr>\n",
       "      <th>1</th>\n",
       "      <td>0_Parade_Parade_0_904.jpg</td>\n",
       "      <td>1</td>\n",
       "      <td>[361 98 263 339 0 0 0 0 0 0 ]</td>\n",
       "    </tr>\n",
       "    <tr>\n",
       "      <th>2</th>\n",
       "      <td>0_Parade_marchingband_1_799.jpg</td>\n",
       "      <td>21</td>\n",
       "      <td>[78 221 7 8 2 0 0 0 0 0 , 78 238 14 17 2 0 0 0...</td>\n",
       "    </tr>\n",
       "    <tr>\n",
       "      <th>3</th>\n",
       "      <td>0_Parade_marchingband_1_117.jpg</td>\n",
       "      <td>9</td>\n",
       "      <td>[69 359 50 36 1 0 0 0 0 1 , 227 382 56 43 1 0 ...</td>\n",
       "    </tr>\n",
       "    <tr>\n",
       "      <th>4</th>\n",
       "      <td>0_Parade_marchingband_1_778.jpg</td>\n",
       "      <td>35</td>\n",
       "      <td>[27 226 33 36 1 0 0 0 2 0 , 63 95 16 19 2 0 0 ...</td>\n",
       "    </tr>\n",
       "  </tbody>\n",
       "</table>\n",
       "</div>"
      ],
      "text/plain": [
       "                              name  num_faces  \\\n",
       "0  0_Parade_marchingband_1_849.jpg          1   \n",
       "1        0_Parade_Parade_0_904.jpg          1   \n",
       "2  0_Parade_marchingband_1_799.jpg         21   \n",
       "3  0_Parade_marchingband_1_117.jpg          9   \n",
       "4  0_Parade_marchingband_1_778.jpg         35   \n",
       "\n",
       "                                                bbox  \n",
       "0                     [449 330 122 149 0 0 0 0 0 0 ]  \n",
       "1                      [361 98 263 339 0 0 0 0 0 0 ]  \n",
       "2  [78 221 7 8 2 0 0 0 0 0 , 78 238 14 17 2 0 0 0...  \n",
       "3  [69 359 50 36 1 0 0 0 0 1 , 227 382 56 43 1 0 ...  \n",
       "4  [27 226 33 36 1 0 0 0 2 0 , 63 95 16 19 2 0 0 ...  "
      ]
     },
     "execution_count": 9,
     "metadata": {},
     "output_type": "execute_result"
    }
   ],
   "source": [
    "train.head()"
   ]
  },
  {
   "cell_type": "code",
   "execution_count": 10,
   "id": "c15e152a-6554-48e1-b6a0-884648e8c761",
   "metadata": {},
   "outputs": [],
   "source": [
    "for i in os.listdir(\"dataset/train/\"):\n",
    "    train.loc[train['name'] == i, 'name'] = 'dataset/train/'+i"
   ]
  },
  {
   "cell_type": "code",
   "execution_count": 11,
   "id": "6ba0a41e-a320-4399-99b4-c58c1b73a530",
   "metadata": {},
   "outputs": [
    {
     "data": {
      "text/html": [
       "<div>\n",
       "<style scoped>\n",
       "    .dataframe tbody tr th:only-of-type {\n",
       "        vertical-align: middle;\n",
       "    }\n",
       "\n",
       "    .dataframe tbody tr th {\n",
       "        vertical-align: top;\n",
       "    }\n",
       "\n",
       "    .dataframe thead th {\n",
       "        text-align: right;\n",
       "    }\n",
       "</style>\n",
       "<table border=\"1\" class=\"dataframe\">\n",
       "  <thead>\n",
       "    <tr style=\"text-align: right;\">\n",
       "      <th></th>\n",
       "      <th>name</th>\n",
       "      <th>num_faces</th>\n",
       "      <th>bbox</th>\n",
       "    </tr>\n",
       "  </thead>\n",
       "  <tbody>\n",
       "    <tr>\n",
       "      <th>0</th>\n",
       "      <td>0_Parade_marchingband_1_849.jpg</td>\n",
       "      <td>1</td>\n",
       "      <td>[449 330 122 149 0 0 0 0 0 0 ]</td>\n",
       "    </tr>\n",
       "    <tr>\n",
       "      <th>1</th>\n",
       "      <td>0_Parade_Parade_0_904.jpg</td>\n",
       "      <td>1</td>\n",
       "      <td>[361 98 263 339 0 0 0 0 0 0 ]</td>\n",
       "    </tr>\n",
       "    <tr>\n",
       "      <th>2</th>\n",
       "      <td>0_Parade_marchingband_1_799.jpg</td>\n",
       "      <td>21</td>\n",
       "      <td>[78 221 7 8 2 0 0 0 0 0 , 78 238 14 17 2 0 0 0...</td>\n",
       "    </tr>\n",
       "    <tr>\n",
       "      <th>3</th>\n",
       "      <td>dataset/train/0_Parade_marchingband_1_117.jpg</td>\n",
       "      <td>9</td>\n",
       "      <td>[69 359 50 36 1 0 0 0 0 1 , 227 382 56 43 1 0 ...</td>\n",
       "    </tr>\n",
       "    <tr>\n",
       "      <th>4</th>\n",
       "      <td>0_Parade_marchingband_1_778.jpg</td>\n",
       "      <td>35</td>\n",
       "      <td>[27 226 33 36 1 0 0 0 2 0 , 63 95 16 19 2 0 0 ...</td>\n",
       "    </tr>\n",
       "  </tbody>\n",
       "</table>\n",
       "</div>"
      ],
      "text/plain": [
       "                                            name  num_faces  \\\n",
       "0                0_Parade_marchingband_1_849.jpg          1   \n",
       "1                      0_Parade_Parade_0_904.jpg          1   \n",
       "2                0_Parade_marchingband_1_799.jpg         21   \n",
       "3  dataset/train/0_Parade_marchingband_1_117.jpg          9   \n",
       "4                0_Parade_marchingband_1_778.jpg         35   \n",
       "\n",
       "                                                bbox  \n",
       "0                     [449 330 122 149 0 0 0 0 0 0 ]  \n",
       "1                      [361 98 263 339 0 0 0 0 0 0 ]  \n",
       "2  [78 221 7 8 2 0 0 0 0 0 , 78 238 14 17 2 0 0 0...  \n",
       "3  [69 359 50 36 1 0 0 0 0 1 , 227 382 56 43 1 0 ...  \n",
       "4  [27 226 33 36 1 0 0 0 2 0 , 63 95 16 19 2 0 0 ...  "
      ]
     },
     "execution_count": 11,
     "metadata": {},
     "output_type": "execute_result"
    }
   ],
   "source": [
    "train.head()"
   ]
  },
  {
   "cell_type": "code",
   "execution_count": 12,
   "id": "a3e853cc-bd59-40d0-9661-6ff33dc2757c",
   "metadata": {},
   "outputs": [
    {
     "data": {
      "text/html": [
       "<div>\n",
       "<style scoped>\n",
       "    .dataframe tbody tr th:only-of-type {\n",
       "        vertical-align: middle;\n",
       "    }\n",
       "\n",
       "    .dataframe tbody tr th {\n",
       "        vertical-align: top;\n",
       "    }\n",
       "\n",
       "    .dataframe thead th {\n",
       "        text-align: right;\n",
       "    }\n",
       "</style>\n",
       "<table border=\"1\" class=\"dataframe\">\n",
       "  <thead>\n",
       "    <tr style=\"text-align: right;\">\n",
       "      <th></th>\n",
       "      <th>name</th>\n",
       "      <th>num_faces</th>\n",
       "      <th>bbox</th>\n",
       "      <th>mark</th>\n",
       "    </tr>\n",
       "  </thead>\n",
       "  <tbody>\n",
       "    <tr>\n",
       "      <th>0</th>\n",
       "      <td>0_Parade_marchingband_1_849.jpg</td>\n",
       "      <td>1</td>\n",
       "      <td>[449 330 122 149 0 0 0 0 0 0 ]</td>\n",
       "      <td>False</td>\n",
       "    </tr>\n",
       "    <tr>\n",
       "      <th>1</th>\n",
       "      <td>0_Parade_Parade_0_904.jpg</td>\n",
       "      <td>1</td>\n",
       "      <td>[361 98 263 339 0 0 0 0 0 0 ]</td>\n",
       "      <td>False</td>\n",
       "    </tr>\n",
       "    <tr>\n",
       "      <th>2</th>\n",
       "      <td>0_Parade_marchingband_1_799.jpg</td>\n",
       "      <td>21</td>\n",
       "      <td>[78 221 7 8 2 0 0 0 0 0 , 78 238 14 17 2 0 0 0...</td>\n",
       "      <td>False</td>\n",
       "    </tr>\n",
       "    <tr>\n",
       "      <th>3</th>\n",
       "      <td>dataset/train/0_Parade_marchingband_1_117.jpg</td>\n",
       "      <td>9</td>\n",
       "      <td>[69 359 50 36 1 0 0 0 0 1 , 227 382 56 43 1 0 ...</td>\n",
       "      <td>True</td>\n",
       "    </tr>\n",
       "    <tr>\n",
       "      <th>4</th>\n",
       "      <td>0_Parade_marchingband_1_778.jpg</td>\n",
       "      <td>35</td>\n",
       "      <td>[27 226 33 36 1 0 0 0 2 0 , 63 95 16 19 2 0 0 ...</td>\n",
       "      <td>False</td>\n",
       "    </tr>\n",
       "  </tbody>\n",
       "</table>\n",
       "</div>"
      ],
      "text/plain": [
       "                                            name  num_faces  \\\n",
       "0                0_Parade_marchingband_1_849.jpg          1   \n",
       "1                      0_Parade_Parade_0_904.jpg          1   \n",
       "2                0_Parade_marchingband_1_799.jpg         21   \n",
       "3  dataset/train/0_Parade_marchingband_1_117.jpg          9   \n",
       "4                0_Parade_marchingband_1_778.jpg         35   \n",
       "\n",
       "                                                bbox   mark  \n",
       "0                     [449 330 122 149 0 0 0 0 0 0 ]  False  \n",
       "1                      [361 98 263 339 0 0 0 0 0 0 ]  False  \n",
       "2  [78 221 7 8 2 0 0 0 0 0 , 78 238 14 17 2 0 0 0...  False  \n",
       "3  [69 359 50 36 1 0 0 0 0 1 , 227 382 56 43 1 0 ...   True  \n",
       "4  [27 226 33 36 1 0 0 0 2 0 , 63 95 16 19 2 0 0 ...  False  "
      ]
     },
     "execution_count": 12,
     "metadata": {},
     "output_type": "execute_result"
    }
   ],
   "source": [
    "train['mark'] = train['name'].str.contains('dataset')\n",
    "train.head()"
   ]
  },
  {
   "cell_type": "code",
   "execution_count": 13,
   "id": "fb7c79d7-8a4e-4878-9716-2caa37f60ea7",
   "metadata": {},
   "outputs": [
    {
     "name": "stdout",
     "output_type": "stream",
     "text": [
      "<class 'pandas.core.frame.DataFrame'>\n",
      "RangeIndex: 12880 entries, 0 to 12879\n",
      "Data columns (total 4 columns):\n",
      " #   Column     Non-Null Count  Dtype \n",
      "---  ------     --------------  ----- \n",
      " 0   name       12880 non-null  object\n",
      " 1   num_faces  12880 non-null  int64 \n",
      " 2   bbox       12880 non-null  object\n",
      " 3   mark       12880 non-null  bool  \n",
      "dtypes: bool(1), int64(1), object(2)\n",
      "memory usage: 314.6+ KB\n"
     ]
    }
   ],
   "source": [
    "train.info()"
   ]
  },
  {
   "cell_type": "code",
   "execution_count": 14,
   "id": "ec5f4c13-bcfe-424a-91e3-79a72b710cb7",
   "metadata": {},
   "outputs": [
    {
     "data": {
      "text/html": [
       "<div>\n",
       "<style scoped>\n",
       "    .dataframe tbody tr th:only-of-type {\n",
       "        vertical-align: middle;\n",
       "    }\n",
       "\n",
       "    .dataframe tbody tr th {\n",
       "        vertical-align: top;\n",
       "    }\n",
       "\n",
       "    .dataframe thead th {\n",
       "        text-align: right;\n",
       "    }\n",
       "</style>\n",
       "<table border=\"1\" class=\"dataframe\">\n",
       "  <thead>\n",
       "    <tr style=\"text-align: right;\">\n",
       "      <th></th>\n",
       "      <th>name</th>\n",
       "      <th>num_faces</th>\n",
       "      <th>bbox</th>\n",
       "      <th>mark</th>\n",
       "    </tr>\n",
       "  </thead>\n",
       "  <tbody>\n",
       "    <tr>\n",
       "      <th>3</th>\n",
       "      <td>dataset/train/0_Parade_marchingband_1_117.jpg</td>\n",
       "      <td>9</td>\n",
       "      <td>[69 359 50 36 1 0 0 0 0 1 , 227 382 56 43 1 0 ...</td>\n",
       "      <td>True</td>\n",
       "    </tr>\n",
       "    <tr>\n",
       "      <th>5</th>\n",
       "      <td>dataset/train/0_Parade_Parade_0_343.jpg</td>\n",
       "      <td>18</td>\n",
       "      <td>[134 580 12 14 2 0 0 0 1 0 , 55 581 5 10 2 0 1...</td>\n",
       "      <td>True</td>\n",
       "    </tr>\n",
       "    <tr>\n",
       "      <th>6</th>\n",
       "      <td>dataset/train/0_Parade_marchingband_1_205.jpg</td>\n",
       "      <td>65</td>\n",
       "      <td>[60 56 19 19 2 0 1 0 1 0 , 39 2 17 21 2 0 1 0 ...</td>\n",
       "      <td>True</td>\n",
       "    </tr>\n",
       "    <tr>\n",
       "      <th>7</th>\n",
       "      <td>dataset/train/0_Parade_Parade_0_106.jpg</td>\n",
       "      <td>40</td>\n",
       "      <td>[9 260 18 23 1 0 0 0 0 0 , 61 248 24 29 0 0 0 ...</td>\n",
       "      <td>True</td>\n",
       "    </tr>\n",
       "    <tr>\n",
       "      <th>8</th>\n",
       "      <td>dataset/train/0_Parade_Parade_0_476.jpg</td>\n",
       "      <td>35</td>\n",
       "      <td>[566 158 22 17 2 0 0 0 2 0 , 663 118 24 28 2 0...</td>\n",
       "      <td>True</td>\n",
       "    </tr>\n",
       "  </tbody>\n",
       "</table>\n",
       "</div>"
      ],
      "text/plain": [
       "                                            name  num_faces  \\\n",
       "3  dataset/train/0_Parade_marchingband_1_117.jpg          9   \n",
       "5        dataset/train/0_Parade_Parade_0_343.jpg         18   \n",
       "6  dataset/train/0_Parade_marchingband_1_205.jpg         65   \n",
       "7        dataset/train/0_Parade_Parade_0_106.jpg         40   \n",
       "8        dataset/train/0_Parade_Parade_0_476.jpg         35   \n",
       "\n",
       "                                                bbox  mark  \n",
       "3  [69 359 50 36 1 0 0 0 0 1 , 227 382 56 43 1 0 ...  True  \n",
       "5  [134 580 12 14 2 0 0 0 1 0 , 55 581 5 10 2 0 1...  True  \n",
       "6  [60 56 19 19 2 0 1 0 1 0 , 39 2 17 21 2 0 1 0 ...  True  \n",
       "7  [9 260 18 23 1 0 0 0 0 0 , 61 248 24 29 0 0 0 ...  True  \n",
       "8  [566 158 22 17 2 0 0 0 2 0 , 663 118 24 28 2 0...  True  "
      ]
     },
     "execution_count": 14,
     "metadata": {},
     "output_type": "execute_result"
    }
   ],
   "source": [
    "train = train[train['mark'] == True]\n",
    "train.head()"
   ]
  },
  {
   "cell_type": "code",
   "execution_count": 15,
   "id": "dcd1534e-9a85-45c4-bbc0-4bff9ba2a58d",
   "metadata": {},
   "outputs": [],
   "source": [
    "train.drop('mark', axis=1, inplace=True)\n",
    "train.reset_index(drop=True, inplace=True)"
   ]
  },
  {
   "cell_type": "code",
   "execution_count": 16,
   "id": "cd347dbe-bd0b-4ac1-a4cd-30340ec58641",
   "metadata": {},
   "outputs": [
    {
     "data": {
      "text/html": [
       "<div>\n",
       "<style scoped>\n",
       "    .dataframe tbody tr th:only-of-type {\n",
       "        vertical-align: middle;\n",
       "    }\n",
       "\n",
       "    .dataframe tbody tr th {\n",
       "        vertical-align: top;\n",
       "    }\n",
       "\n",
       "    .dataframe thead th {\n",
       "        text-align: right;\n",
       "    }\n",
       "</style>\n",
       "<table border=\"1\" class=\"dataframe\">\n",
       "  <thead>\n",
       "    <tr style=\"text-align: right;\">\n",
       "      <th></th>\n",
       "      <th>name</th>\n",
       "      <th>num_faces</th>\n",
       "      <th>bbox</th>\n",
       "    </tr>\n",
       "  </thead>\n",
       "  <tbody>\n",
       "    <tr>\n",
       "      <th>0</th>\n",
       "      <td>dataset/train/0_Parade_marchingband_1_117.jpg</td>\n",
       "      <td>9</td>\n",
       "      <td>[69 359 50 36 1 0 0 0 0 1 , 227 382 56 43 1 0 ...</td>\n",
       "    </tr>\n",
       "    <tr>\n",
       "      <th>1</th>\n",
       "      <td>dataset/train/0_Parade_Parade_0_343.jpg</td>\n",
       "      <td>18</td>\n",
       "      <td>[134 580 12 14 2 0 0 0 1 0 , 55 581 5 10 2 0 1...</td>\n",
       "    </tr>\n",
       "    <tr>\n",
       "      <th>2</th>\n",
       "      <td>dataset/train/0_Parade_marchingband_1_205.jpg</td>\n",
       "      <td>65</td>\n",
       "      <td>[60 56 19 19 2 0 1 0 1 0 , 39 2 17 21 2 0 1 0 ...</td>\n",
       "    </tr>\n",
       "    <tr>\n",
       "      <th>3</th>\n",
       "      <td>dataset/train/0_Parade_Parade_0_106.jpg</td>\n",
       "      <td>40</td>\n",
       "      <td>[9 260 18 23 1 0 0 0 0 0 , 61 248 24 29 0 0 0 ...</td>\n",
       "    </tr>\n",
       "    <tr>\n",
       "      <th>4</th>\n",
       "      <td>dataset/train/0_Parade_Parade_0_476.jpg</td>\n",
       "      <td>35</td>\n",
       "      <td>[566 158 22 17 2 0 0 0 2 0 , 663 118 24 28 2 0...</td>\n",
       "    </tr>\n",
       "  </tbody>\n",
       "</table>\n",
       "</div>"
      ],
      "text/plain": [
       "                                            name  num_faces  \\\n",
       "0  dataset/train/0_Parade_marchingband_1_117.jpg          9   \n",
       "1        dataset/train/0_Parade_Parade_0_343.jpg         18   \n",
       "2  dataset/train/0_Parade_marchingband_1_205.jpg         65   \n",
       "3        dataset/train/0_Parade_Parade_0_106.jpg         40   \n",
       "4        dataset/train/0_Parade_Parade_0_476.jpg         35   \n",
       "\n",
       "                                                bbox  \n",
       "0  [69 359 50 36 1 0 0 0 0 1 , 227 382 56 43 1 0 ...  \n",
       "1  [134 580 12 14 2 0 0 0 1 0 , 55 581 5 10 2 0 1...  \n",
       "2  [60 56 19 19 2 0 1 0 1 0 , 39 2 17 21 2 0 1 0 ...  \n",
       "3  [9 260 18 23 1 0 0 0 0 0 , 61 248 24 29 0 0 0 ...  \n",
       "4  [566 158 22 17 2 0 0 0 2 0 , 663 118 24 28 2 0...  "
      ]
     },
     "execution_count": 16,
     "metadata": {},
     "output_type": "execute_result"
    }
   ],
   "source": [
    "train.head()"
   ]
  },
  {
   "cell_type": "code",
   "execution_count": 17,
   "id": "3925fee2-d089-4fe8-9e5f-7b6617d9233b",
   "metadata": {},
   "outputs": [],
   "source": [
    "train['bbox'] = train['bbox'].apply(lambda row:[np.float_(annos.split()[:4]) for annos in row])"
   ]
  },
  {
   "cell_type": "code",
   "execution_count": 18,
   "id": "602670a5-9203-472e-9331-cafcc903dc1f",
   "metadata": {},
   "outputs": [
    {
     "data": {
      "text/html": [
       "<div>\n",
       "<style scoped>\n",
       "    .dataframe tbody tr th:only-of-type {\n",
       "        vertical-align: middle;\n",
       "    }\n",
       "\n",
       "    .dataframe tbody tr th {\n",
       "        vertical-align: top;\n",
       "    }\n",
       "\n",
       "    .dataframe thead th {\n",
       "        text-align: right;\n",
       "    }\n",
       "</style>\n",
       "<table border=\"1\" class=\"dataframe\">\n",
       "  <thead>\n",
       "    <tr style=\"text-align: right;\">\n",
       "      <th></th>\n",
       "      <th>name</th>\n",
       "      <th>num_faces</th>\n",
       "      <th>bbox</th>\n",
       "    </tr>\n",
       "  </thead>\n",
       "  <tbody>\n",
       "    <tr>\n",
       "      <th>0</th>\n",
       "      <td>dataset/train/0_Parade_marchingband_1_117.jpg</td>\n",
       "      <td>9</td>\n",
       "      <td>[[69.0, 359.0, 50.0, 36.0], [227.0, 382.0, 56....</td>\n",
       "    </tr>\n",
       "    <tr>\n",
       "      <th>1</th>\n",
       "      <td>dataset/train/0_Parade_Parade_0_343.jpg</td>\n",
       "      <td>18</td>\n",
       "      <td>[[134.0, 580.0, 12.0, 14.0], [55.0, 581.0, 5.0...</td>\n",
       "    </tr>\n",
       "    <tr>\n",
       "      <th>2</th>\n",
       "      <td>dataset/train/0_Parade_marchingband_1_205.jpg</td>\n",
       "      <td>65</td>\n",
       "      <td>[[60.0, 56.0, 19.0, 19.0], [39.0, 2.0, 17.0, 2...</td>\n",
       "    </tr>\n",
       "    <tr>\n",
       "      <th>3</th>\n",
       "      <td>dataset/train/0_Parade_Parade_0_106.jpg</td>\n",
       "      <td>40</td>\n",
       "      <td>[[9.0, 260.0, 18.0, 23.0], [61.0, 248.0, 24.0,...</td>\n",
       "    </tr>\n",
       "    <tr>\n",
       "      <th>4</th>\n",
       "      <td>dataset/train/0_Parade_Parade_0_476.jpg</td>\n",
       "      <td>35</td>\n",
       "      <td>[[566.0, 158.0, 22.0, 17.0], [663.0, 118.0, 24...</td>\n",
       "    </tr>\n",
       "  </tbody>\n",
       "</table>\n",
       "</div>"
      ],
      "text/plain": [
       "                                            name  num_faces  \\\n",
       "0  dataset/train/0_Parade_marchingband_1_117.jpg          9   \n",
       "1        dataset/train/0_Parade_Parade_0_343.jpg         18   \n",
       "2  dataset/train/0_Parade_marchingband_1_205.jpg         65   \n",
       "3        dataset/train/0_Parade_Parade_0_106.jpg         40   \n",
       "4        dataset/train/0_Parade_Parade_0_476.jpg         35   \n",
       "\n",
       "                                                bbox  \n",
       "0  [[69.0, 359.0, 50.0, 36.0], [227.0, 382.0, 56....  \n",
       "1  [[134.0, 580.0, 12.0, 14.0], [55.0, 581.0, 5.0...  \n",
       "2  [[60.0, 56.0, 19.0, 19.0], [39.0, 2.0, 17.0, 2...  \n",
       "3  [[9.0, 260.0, 18.0, 23.0], [61.0, 248.0, 24.0,...  \n",
       "4  [[566.0, 158.0, 22.0, 17.0], [663.0, 118.0, 24...  "
      ]
     },
     "execution_count": 18,
     "metadata": {},
     "output_type": "execute_result"
    }
   ],
   "source": [
    "train.head()"
   ]
  },
  {
   "cell_type": "code",
   "execution_count": 19,
   "id": "374e9716-59c9-4483-97ef-159414c88438",
   "metadata": {},
   "outputs": [],
   "source": [
    "# creating empty dataframes\n",
    "train_df= pd.DataFrame()"
   ]
  },
  {
   "cell_type": "code",
   "execution_count": 20,
   "id": "a4580811-efbe-45a9-b6ad-4be8b69cc00a",
   "metadata": {},
   "outputs": [],
   "source": [
    "train_df = pd.concat([train_df, train])"
   ]
  },
  {
   "cell_type": "code",
   "execution_count": 21,
   "id": "8424d5d8-5186-493b-b1bc-945442445061",
   "metadata": {},
   "outputs": [
    {
     "data": {
      "text/plain": [
       "(1000, 3)"
      ]
     },
     "execution_count": 21,
     "metadata": {},
     "output_type": "execute_result"
    }
   ],
   "source": [
    "train_df.shape"
   ]
  },
  {
   "cell_type": "code",
   "execution_count": 22,
   "id": "90fb6eb4-902b-47c7-b838-df5ace06c4cb",
   "metadata": {},
   "outputs": [
    {
     "name": "stdout",
     "output_type": "stream",
     "text": [
      "['dataset/train/0_Parade_marchingband_1_117.jpg' 9\n",
      " list([array([ 69., 359.,  50.,  36.]), array([227., 382.,  56.,  43.]), array([296., 305.,  44.,  26.]), array([353., 280.,  40.,  36.]), array([885., 377.,  63.,  41.]), array([819., 391.,  34.,  43.]), array([727., 342.,  37.,  31.]), array([598., 246.,  33.,  29.]), array([740., 308.,  45.,  33.])])]\n"
     ]
    }
   ],
   "source": [
    "# custom annotation format\n",
    "idx=0\n",
    "values = train_df.values[idx]\n",
    "print(values)"
   ]
  },
  {
   "cell_type": "code",
   "execution_count": 23,
   "id": "38fba9ac-02fa-48ea-b980-7f4b36acf14b",
   "metadata": {},
   "outputs": [],
   "source": [
    "# # create annotation dict \n",
    "# record = {}\n",
    "# # image name        \n",
    "# filename = values[0]\n",
    "# # height and width of an image\n",
    "# height, width = cv.imread(filename).shape[:2]\n",
    "# # creating fields    \n",
    "# record[\"file_name\"] = filename\n",
    "# record[\"image_id\"] = 0\n",
    "# record[\"height\"] = height\n",
    "# record[\"width\"] = width"
   ]
  },
  {
   "cell_type": "code",
   "execution_count": 24,
   "id": "a83d005f-906b-4b4d-b653-96c32f47a854",
   "metadata": {
    "scrolled": true,
    "tags": []
   },
   "outputs": [],
   "source": [
    "# # create bbox list\n",
    "# objs = []\n",
    "  \n",
    "# # for every face in an image\n",
    "# for i in range(len(values[2])):\n",
    "    \n",
    "#   # fetch bbox coordinates\n",
    "#     annos = values[2][i]\n",
    "    \n",
    "#     # unpack values\n",
    "#     x1, y1, w, h = annos[0], annos[1], annos[2], annos[3]\n",
    "  \n",
    "#   # find bottom right corner\n",
    "#     x2, y2 = x1 + w, y1 + h\n",
    "  \n",
    "#   # create bbox dict\n",
    "#     obj = {     \"bbox\": [x1, y1, x2, y2],\n",
    "#                 \"bbox_mode\": BoxMode.XYXY_ABS,\n",
    "#                 \"category_id\": 0,\n",
    "#                 \"iscrowd\": 0\n",
    "#         }\n",
    "#   # append bbox dict to bbox list\n",
    "#     objs.append(obj)\n",
    "\n",
    "# # assigning bbox list to annotation dict\n",
    "# record[\"annotations\"] = objs\n",
    "# # standard annotation format\n",
    "# record"
   ]
  },
  {
   "cell_type": "code",
   "execution_count": 25,
   "id": "49a5b4e8-f815-4f19-a5d1-79bd8f10043d",
   "metadata": {},
   "outputs": [],
   "source": [
    "def create_annotation(df):  \n",
    "  \n",
    "  # create list to store annotation dict\n",
    "    dataset_dicts = []\n",
    "  # for each image \n",
    "    for idx, v in enumerate(df.values):\n",
    "    \n",
    "    # create annotation dict \n",
    "        record = {}\n",
    "    # image name        \n",
    "        filename = v[0]\n",
    "    # height and width of an image\n",
    "        height, width = cv.imread(filename).shape[:2]\n",
    "    # assign values to fields    \n",
    "        record[\"file_name\"] = filename\n",
    "        record[\"image_id\"] = idx\n",
    "        record[\"height\"] = height\n",
    "        record[\"width\"] = width\n",
    "        # create list for bbox\n",
    "        objs = []\n",
    "        for i in range(len(v[2])):\n",
    "          # bounding box coordinates\n",
    "            annos = v[2][i]\n",
    "\n",
    "          # unpack values\n",
    "            x1, y1, w, h = annos[0], annos[1], annos[2], annos[3]\n",
    "\n",
    "          # find bottom right corner\n",
    "            x2, y2 = x1 + w, y1 + h\n",
    "\n",
    "          # create bbox dict\n",
    "            obj = { \"bbox\": [x1, y1, x2, y2],\n",
    "                    \"bbox_mode\": BoxMode.XYXY_ABS,\n",
    "                    \"category_id\": 0,\n",
    "                    \"iscrowd\": 0\n",
    "                  }\n",
    "          # append bbox dict to a bbox list      \n",
    "            objs.append(obj)\n",
    "    \n",
    "    # assign bbox list to annotation dict\n",
    "        record[\"annotations\"] = objs\n",
    "    # append annotation dict to list\n",
    "        dataset_dicts.append(record)\n",
    "    \n",
    "    return dataset_dicts"
   ]
  },
  {
   "cell_type": "code",
   "execution_count": 26,
   "id": "28abed95-d479-45c9-9f75-87f5b3b7aa70",
   "metadata": {},
   "outputs": [],
   "source": [
    "# create standard annotations for training and validation datasets\n",
    "train_annotation = create_annotation(train_df)"
   ]
  },
  {
   "cell_type": "code",
   "execution_count": 27,
   "id": "e540010f-ee0f-4ab5-ad49-0070dc653ef1",
   "metadata": {
    "scrolled": true,
    "tags": []
   },
   "outputs": [
    {
     "data": {
      "text/plain": [
       "{'file_name': 'dataset/train/0_Parade_marchingband_1_117.jpg',\n",
       " 'image_id': 0,\n",
       " 'height': 682,\n",
       " 'width': 1024,\n",
       " 'annotations': [{'bbox': [69.0, 359.0, 119.0, 395.0],\n",
       "   'bbox_mode': <BoxMode.XYXY_ABS: 0>,\n",
       "   'category_id': 0,\n",
       "   'iscrowd': 0},\n",
       "  {'bbox': [227.0, 382.0, 283.0, 425.0],\n",
       "   'bbox_mode': <BoxMode.XYXY_ABS: 0>,\n",
       "   'category_id': 0,\n",
       "   'iscrowd': 0},\n",
       "  {'bbox': [296.0, 305.0, 340.0, 331.0],\n",
       "   'bbox_mode': <BoxMode.XYXY_ABS: 0>,\n",
       "   'category_id': 0,\n",
       "   'iscrowd': 0},\n",
       "  {'bbox': [353.0, 280.0, 393.0, 316.0],\n",
       "   'bbox_mode': <BoxMode.XYXY_ABS: 0>,\n",
       "   'category_id': 0,\n",
       "   'iscrowd': 0},\n",
       "  {'bbox': [885.0, 377.0, 948.0, 418.0],\n",
       "   'bbox_mode': <BoxMode.XYXY_ABS: 0>,\n",
       "   'category_id': 0,\n",
       "   'iscrowd': 0},\n",
       "  {'bbox': [819.0, 391.0, 853.0, 434.0],\n",
       "   'bbox_mode': <BoxMode.XYXY_ABS: 0>,\n",
       "   'category_id': 0,\n",
       "   'iscrowd': 0},\n",
       "  {'bbox': [727.0, 342.0, 764.0, 373.0],\n",
       "   'bbox_mode': <BoxMode.XYXY_ABS: 0>,\n",
       "   'category_id': 0,\n",
       "   'iscrowd': 0},\n",
       "  {'bbox': [598.0, 246.0, 631.0, 275.0],\n",
       "   'bbox_mode': <BoxMode.XYXY_ABS: 0>,\n",
       "   'category_id': 0,\n",
       "   'iscrowd': 0},\n",
       "  {'bbox': [740.0, 308.0, 785.0, 341.0],\n",
       "   'bbox_mode': <BoxMode.XYXY_ABS: 0>,\n",
       "   'category_id': 0,\n",
       "   'iscrowd': 0}]}"
      ]
     },
     "execution_count": 27,
     "metadata": {},
     "output_type": "execute_result"
    }
   ],
   "source": [
    "# standard annotation of an image\n",
    "train_annotation[0]"
   ]
  },
  {
   "cell_type": "code",
   "execution_count": 28,
   "id": "9fdcafd8-f37e-44bb-a193-1701e7b68cfe",
   "metadata": {
    "tags": []
   },
   "outputs": [],
   "source": [
    "# register dataset\n",
    "DatasetCatalog.register(\"face_train\", lambda d=\"train\": create_annotation(train_df))"
   ]
  },
  {
   "cell_type": "code",
   "execution_count": 29,
   "id": "d06ba984-31bf-451a-8cae-2d01db3de422",
   "metadata": {},
   "outputs": [
    {
     "data": {
      "text/plain": [
       "namespace(name='face_train', thing_classes=['face'])"
      ]
     },
     "execution_count": 29,
     "metadata": {},
     "output_type": "execute_result"
    }
   ],
   "source": [
    "# register metadata\n",
    "MetadataCatalog.get(\"face_train\").set(thing_classes=[\"face\"])"
   ]
  },
  {
   "cell_type": "code",
   "execution_count": 30,
   "id": "458caedf-fd89-45b5-8d5f-123c34e96e8e",
   "metadata": {},
   "outputs": [
    {
     "name": "stdout",
     "output_type": "stream",
     "text": [
      "Metadata(name='face_train', thing_classes=['face'])\n"
     ]
    }
   ],
   "source": [
    "# for drawing bounding boxes on images\n",
    "from detectron2.utils.visualizer import Visualizer\n",
    "# for displaying an image\n",
    "# from google.colab.patches import cv2_imshow\n",
    "# for randomly selecting images\n",
    "import random\n",
    "# get the name of the classes\n",
    "face_metadata = MetadataCatalog.get(\"face_train\")\n",
    "print(face_metadata)"
   ]
  },
  {
   "cell_type": "code",
   "execution_count": 31,
   "id": "ec605b2b-dd9d-4b10-8c89-1ffb10224cb2",
   "metadata": {},
   "outputs": [],
   "source": [
    "# # randomly select images\n",
    "# for d in random.sample(train_annotation, 5):\n",
    "  \n",
    "#   # read an image\n",
    "#     img = cv.imread(d[\"file_name\"])\n",
    "#   # create visualizer\n",
    "#     visualizer = Visualizer(img[:, :, ::-1], metadata=face_metadata, scale=0.5)\n",
    "  \n",
    "#   # draw bounding box on image\n",
    "#     vis = visualizer.draw_dataset_dict(d)\n",
    "  \n",
    "#   # display an image\n",
    "#     cv.imshow(vis.get_image()[:, :, ::-1])"
   ]
  },
  {
   "cell_type": "markdown",
   "id": "223508fe-99d6-4e95-a57e-ca0f5a5696f7",
   "metadata": {},
   "source": [
    "<h1> Config for Fine Tunning </h1>"
   ]
  },
  {
   "cell_type": "code",
   "execution_count": 32,
   "id": "01019b0c-5d0c-4c19-b675-acd023185eb2",
   "metadata": {},
   "outputs": [],
   "source": [
    "cfg = get_cfg()"
   ]
  },
  {
   "cell_type": "code",
   "execution_count": 33,
   "id": "20e50a0e-c210-4745-b8dc-b987738e5532",
   "metadata": {},
   "outputs": [
    {
     "name": "stderr",
     "output_type": "stream",
     "text": [
      "Loading config c:\\users\\asus\\detectron2\\detectron2\\model_zoo\\configs\\COCO-Detection\\../Base-RetinaNet.yaml with yaml.unsafe_load. Your machine may be at risk if the file contains malicious content.\n"
     ]
    }
   ],
   "source": [
    "# Get a model specified by relative path under Detectron2’s official configs/ directory.\n",
    "cfg.merge_from_file(model_zoo.get_config_file(\"COCO-Detection/retinanet_R_50_FPN_1x.yaml\"))"
   ]
  },
  {
   "cell_type": "code",
   "execution_count": 34,
   "id": "6aa6108a-ee89-41dc-8fb2-66eb8237969d",
   "metadata": {},
   "outputs": [],
   "source": [
    "# load pretrained weights\n",
    "cfg.MODEL.WEIGHTS = model_zoo.get_checkpoint_url(\"COCO-Detection/retinanet_R_50_FPN_1x.yaml\")"
   ]
  },
  {
   "cell_type": "code",
   "execution_count": 35,
   "id": "1ab0f838-3ca3-43fc-881a-99284955f378",
   "metadata": {},
   "outputs": [],
   "source": [
    "# List of the dataset names for training. Must be registered in DatasetCatalog\n",
    "cfg.DATASETS.TRAIN = (\"face_train\",)\n",
    "cfg.DATASETS.TEST = ()"
   ]
  },
  {
   "cell_type": "code",
   "execution_count": 36,
   "id": "811a3361-4de2-48c0-908f-771aa67b845b",
   "metadata": {},
   "outputs": [],
   "source": [
    "# no. of images per batch\n",
    "cfg.SOLVER.IMS_PER_BATCH = 1\n",
    "# set base learning rate\n",
    "cfg.SOLVER.BASE_LR = 0.001\n",
    "# no. of iterations \n",
    "cfg.SOLVER.MAX_ITER = 20\n",
    "# only has one class (face)\n",
    "cfg.MODEL.ROI_HEADS.NUM_CLASSES = 1\n",
    "\n",
    "cfg.MODEL.DEVICE='cpu'"
   ]
  },
  {
   "cell_type": "code",
   "execution_count": 37,
   "id": "81116704-e53b-4255-9699-05620cc2fa38",
   "metadata": {},
   "outputs": [],
   "source": [
    "# create directory to save weights\n",
    "os.makedirs(cfg.OUTPUT_DIR, exist_ok=True)"
   ]
  },
  {
   "cell_type": "markdown",
   "id": "944defbc-95ab-4b0c-b0d7-a598238a7479",
   "metadata": {},
   "source": [
    "<h1> Training Model </h1>"
   ]
  },
  {
   "cell_type": "code",
   "execution_count": 38,
   "id": "ca99688e-4709-4ac1-a0f2-2a8c3ebd7afb",
   "metadata": {
    "scrolled": true,
    "tags": []
   },
   "outputs": [
    {
     "name": "stdout",
     "output_type": "stream",
     "text": [
      "[01/06 17:59:38 d2.engine.defaults]: Model:\n",
      "RetinaNet(\n",
      "  (backbone): FPN(\n",
      "    (fpn_lateral3): Conv2d(512, 256, kernel_size=(1, 1), stride=(1, 1))\n",
      "    (fpn_output3): Conv2d(256, 256, kernel_size=(3, 3), stride=(1, 1), padding=(1, 1))\n",
      "    (fpn_lateral4): Conv2d(1024, 256, kernel_size=(1, 1), stride=(1, 1))\n",
      "    (fpn_output4): Conv2d(256, 256, kernel_size=(3, 3), stride=(1, 1), padding=(1, 1))\n",
      "    (fpn_lateral5): Conv2d(2048, 256, kernel_size=(1, 1), stride=(1, 1))\n",
      "    (fpn_output5): Conv2d(256, 256, kernel_size=(3, 3), stride=(1, 1), padding=(1, 1))\n",
      "    (top_block): LastLevelP6P7(\n",
      "      (p6): Conv2d(2048, 256, kernel_size=(3, 3), stride=(2, 2), padding=(1, 1))\n",
      "      (p7): Conv2d(256, 256, kernel_size=(3, 3), stride=(2, 2), padding=(1, 1))\n",
      "    )\n",
      "    (bottom_up): ResNet(\n",
      "      (stem): BasicStem(\n",
      "        (conv1): Conv2d(\n",
      "          3, 64, kernel_size=(7, 7), stride=(2, 2), padding=(3, 3), bias=False\n",
      "          (norm): FrozenBatchNorm2d(num_features=64, eps=1e-05)\n",
      "        )\n",
      "      )\n",
      "      (res2): Sequential(\n",
      "        (0): BottleneckBlock(\n",
      "          (shortcut): Conv2d(\n",
      "            64, 256, kernel_size=(1, 1), stride=(1, 1), bias=False\n",
      "            (norm): FrozenBatchNorm2d(num_features=256, eps=1e-05)\n",
      "          )\n",
      "          (conv1): Conv2d(\n",
      "            64, 64, kernel_size=(1, 1), stride=(1, 1), bias=False\n",
      "            (norm): FrozenBatchNorm2d(num_features=64, eps=1e-05)\n",
      "          )\n",
      "          (conv2): Conv2d(\n",
      "            64, 64, kernel_size=(3, 3), stride=(1, 1), padding=(1, 1), bias=False\n",
      "            (norm): FrozenBatchNorm2d(num_features=64, eps=1e-05)\n",
      "          )\n",
      "          (conv3): Conv2d(\n",
      "            64, 256, kernel_size=(1, 1), stride=(1, 1), bias=False\n",
      "            (norm): FrozenBatchNorm2d(num_features=256, eps=1e-05)\n",
      "          )\n",
      "        )\n",
      "        (1): BottleneckBlock(\n",
      "          (conv1): Conv2d(\n",
      "            256, 64, kernel_size=(1, 1), stride=(1, 1), bias=False\n",
      "            (norm): FrozenBatchNorm2d(num_features=64, eps=1e-05)\n",
      "          )\n",
      "          (conv2): Conv2d(\n",
      "            64, 64, kernel_size=(3, 3), stride=(1, 1), padding=(1, 1), bias=False\n",
      "            (norm): FrozenBatchNorm2d(num_features=64, eps=1e-05)\n",
      "          )\n",
      "          (conv3): Conv2d(\n",
      "            64, 256, kernel_size=(1, 1), stride=(1, 1), bias=False\n",
      "            (norm): FrozenBatchNorm2d(num_features=256, eps=1e-05)\n",
      "          )\n",
      "        )\n",
      "        (2): BottleneckBlock(\n",
      "          (conv1): Conv2d(\n",
      "            256, 64, kernel_size=(1, 1), stride=(1, 1), bias=False\n",
      "            (norm): FrozenBatchNorm2d(num_features=64, eps=1e-05)\n",
      "          )\n",
      "          (conv2): Conv2d(\n",
      "            64, 64, kernel_size=(3, 3), stride=(1, 1), padding=(1, 1), bias=False\n",
      "            (norm): FrozenBatchNorm2d(num_features=64, eps=1e-05)\n",
      "          )\n",
      "          (conv3): Conv2d(\n",
      "            64, 256, kernel_size=(1, 1), stride=(1, 1), bias=False\n",
      "            (norm): FrozenBatchNorm2d(num_features=256, eps=1e-05)\n",
      "          )\n",
      "        )\n",
      "      )\n",
      "      (res3): Sequential(\n",
      "        (0): BottleneckBlock(\n",
      "          (shortcut): Conv2d(\n",
      "            256, 512, kernel_size=(1, 1), stride=(2, 2), bias=False\n",
      "            (norm): FrozenBatchNorm2d(num_features=512, eps=1e-05)\n",
      "          )\n",
      "          (conv1): Conv2d(\n",
      "            256, 128, kernel_size=(1, 1), stride=(2, 2), bias=False\n",
      "            (norm): FrozenBatchNorm2d(num_features=128, eps=1e-05)\n",
      "          )\n",
      "          (conv2): Conv2d(\n",
      "            128, 128, kernel_size=(3, 3), stride=(1, 1), padding=(1, 1), bias=False\n",
      "            (norm): FrozenBatchNorm2d(num_features=128, eps=1e-05)\n",
      "          )\n",
      "          (conv3): Conv2d(\n",
      "            128, 512, kernel_size=(1, 1), stride=(1, 1), bias=False\n",
      "            (norm): FrozenBatchNorm2d(num_features=512, eps=1e-05)\n",
      "          )\n",
      "        )\n",
      "        (1): BottleneckBlock(\n",
      "          (conv1): Conv2d(\n",
      "            512, 128, kernel_size=(1, 1), stride=(1, 1), bias=False\n",
      "            (norm): FrozenBatchNorm2d(num_features=128, eps=1e-05)\n",
      "          )\n",
      "          (conv2): Conv2d(\n",
      "            128, 128, kernel_size=(3, 3), stride=(1, 1), padding=(1, 1), bias=False\n",
      "            (norm): FrozenBatchNorm2d(num_features=128, eps=1e-05)\n",
      "          )\n",
      "          (conv3): Conv2d(\n",
      "            128, 512, kernel_size=(1, 1), stride=(1, 1), bias=False\n",
      "            (norm): FrozenBatchNorm2d(num_features=512, eps=1e-05)\n",
      "          )\n",
      "        )\n",
      "        (2): BottleneckBlock(\n",
      "          (conv1): Conv2d(\n",
      "            512, 128, kernel_size=(1, 1), stride=(1, 1), bias=False\n",
      "            (norm): FrozenBatchNorm2d(num_features=128, eps=1e-05)\n",
      "          )\n",
      "          (conv2): Conv2d(\n",
      "            128, 128, kernel_size=(3, 3), stride=(1, 1), padding=(1, 1), bias=False\n",
      "            (norm): FrozenBatchNorm2d(num_features=128, eps=1e-05)\n",
      "          )\n",
      "          (conv3): Conv2d(\n",
      "            128, 512, kernel_size=(1, 1), stride=(1, 1), bias=False\n",
      "            (norm): FrozenBatchNorm2d(num_features=512, eps=1e-05)\n",
      "          )\n",
      "        )\n",
      "        (3): BottleneckBlock(\n",
      "          (conv1): Conv2d(\n",
      "            512, 128, kernel_size=(1, 1), stride=(1, 1), bias=False\n",
      "            (norm): FrozenBatchNorm2d(num_features=128, eps=1e-05)\n",
      "          )\n",
      "          (conv2): Conv2d(\n",
      "            128, 128, kernel_size=(3, 3), stride=(1, 1), padding=(1, 1), bias=False\n",
      "            (norm): FrozenBatchNorm2d(num_features=128, eps=1e-05)\n",
      "          )\n",
      "          (conv3): Conv2d(\n",
      "            128, 512, kernel_size=(1, 1), stride=(1, 1), bias=False\n",
      "            (norm): FrozenBatchNorm2d(num_features=512, eps=1e-05)\n",
      "          )\n",
      "        )\n",
      "      )\n",
      "      (res4): Sequential(\n",
      "        (0): BottleneckBlock(\n",
      "          (shortcut): Conv2d(\n",
      "            512, 1024, kernel_size=(1, 1), stride=(2, 2), bias=False\n",
      "            (norm): FrozenBatchNorm2d(num_features=1024, eps=1e-05)\n",
      "          )\n",
      "          (conv1): Conv2d(\n",
      "            512, 256, kernel_size=(1, 1), stride=(2, 2), bias=False\n",
      "            (norm): FrozenBatchNorm2d(num_features=256, eps=1e-05)\n",
      "          )\n",
      "          (conv2): Conv2d(\n",
      "            256, 256, kernel_size=(3, 3), stride=(1, 1), padding=(1, 1), bias=False\n",
      "            (norm): FrozenBatchNorm2d(num_features=256, eps=1e-05)\n",
      "          )\n",
      "          (conv3): Conv2d(\n",
      "            256, 1024, kernel_size=(1, 1), stride=(1, 1), bias=False\n",
      "            (norm): FrozenBatchNorm2d(num_features=1024, eps=1e-05)\n",
      "          )\n",
      "        )\n",
      "        (1): BottleneckBlock(\n",
      "          (conv1): Conv2d(\n",
      "            1024, 256, kernel_size=(1, 1), stride=(1, 1), bias=False\n",
      "            (norm): FrozenBatchNorm2d(num_features=256, eps=1e-05)\n",
      "          )\n",
      "          (conv2): Conv2d(\n",
      "            256, 256, kernel_size=(3, 3), stride=(1, 1), padding=(1, 1), bias=False\n",
      "            (norm): FrozenBatchNorm2d(num_features=256, eps=1e-05)\n",
      "          )\n",
      "          (conv3): Conv2d(\n",
      "            256, 1024, kernel_size=(1, 1), stride=(1, 1), bias=False\n",
      "            (norm): FrozenBatchNorm2d(num_features=1024, eps=1e-05)\n",
      "          )\n",
      "        )\n",
      "        (2): BottleneckBlock(\n",
      "          (conv1): Conv2d(\n",
      "            1024, 256, kernel_size=(1, 1), stride=(1, 1), bias=False\n",
      "            (norm): FrozenBatchNorm2d(num_features=256, eps=1e-05)\n",
      "          )\n",
      "          (conv2): Conv2d(\n",
      "            256, 256, kernel_size=(3, 3), stride=(1, 1), padding=(1, 1), bias=False\n",
      "            (norm): FrozenBatchNorm2d(num_features=256, eps=1e-05)\n",
      "          )\n",
      "          (conv3): Conv2d(\n",
      "            256, 1024, kernel_size=(1, 1), stride=(1, 1), bias=False\n",
      "            (norm): FrozenBatchNorm2d(num_features=1024, eps=1e-05)\n",
      "          )\n",
      "        )\n",
      "        (3): BottleneckBlock(\n",
      "          (conv1): Conv2d(\n",
      "            1024, 256, kernel_size=(1, 1), stride=(1, 1), bias=False\n",
      "            (norm): FrozenBatchNorm2d(num_features=256, eps=1e-05)\n",
      "          )\n",
      "          (conv2): Conv2d(\n",
      "            256, 256, kernel_size=(3, 3), stride=(1, 1), padding=(1, 1), bias=False\n",
      "            (norm): FrozenBatchNorm2d(num_features=256, eps=1e-05)\n",
      "          )\n",
      "          (conv3): Conv2d(\n",
      "            256, 1024, kernel_size=(1, 1), stride=(1, 1), bias=False\n",
      "            (norm): FrozenBatchNorm2d(num_features=1024, eps=1e-05)\n",
      "          )\n",
      "        )\n",
      "        (4): BottleneckBlock(\n",
      "          (conv1): Conv2d(\n",
      "            1024, 256, kernel_size=(1, 1), stride=(1, 1), bias=False\n",
      "            (norm): FrozenBatchNorm2d(num_features=256, eps=1e-05)\n",
      "          )\n",
      "          (conv2): Conv2d(\n",
      "            256, 256, kernel_size=(3, 3), stride=(1, 1), padding=(1, 1), bias=False\n",
      "            (norm): FrozenBatchNorm2d(num_features=256, eps=1e-05)\n",
      "          )\n",
      "          (conv3): Conv2d(\n",
      "            256, 1024, kernel_size=(1, 1), stride=(1, 1), bias=False\n",
      "            (norm): FrozenBatchNorm2d(num_features=1024, eps=1e-05)\n",
      "          )\n",
      "        )\n",
      "        (5): BottleneckBlock(\n",
      "          (conv1): Conv2d(\n",
      "            1024, 256, kernel_size=(1, 1), stride=(1, 1), bias=False\n",
      "            (norm): FrozenBatchNorm2d(num_features=256, eps=1e-05)\n",
      "          )\n",
      "          (conv2): Conv2d(\n",
      "            256, 256, kernel_size=(3, 3), stride=(1, 1), padding=(1, 1), bias=False\n",
      "            (norm): FrozenBatchNorm2d(num_features=256, eps=1e-05)\n",
      "          )\n",
      "          (conv3): Conv2d(\n",
      "            256, 1024, kernel_size=(1, 1), stride=(1, 1), bias=False\n",
      "            (norm): FrozenBatchNorm2d(num_features=1024, eps=1e-05)\n",
      "          )\n",
      "        )\n",
      "      )\n",
      "      (res5): Sequential(\n",
      "        (0): BottleneckBlock(\n",
      "          (shortcut): Conv2d(\n",
      "            1024, 2048, kernel_size=(1, 1), stride=(2, 2), bias=False\n",
      "            (norm): FrozenBatchNorm2d(num_features=2048, eps=1e-05)\n",
      "          )\n",
      "          (conv1): Conv2d(\n",
      "            1024, 512, kernel_size=(1, 1), stride=(2, 2), bias=False\n",
      "            (norm): FrozenBatchNorm2d(num_features=512, eps=1e-05)\n",
      "          )\n",
      "          (conv2): Conv2d(\n",
      "            512, 512, kernel_size=(3, 3), stride=(1, 1), padding=(1, 1), bias=False\n",
      "            (norm): FrozenBatchNorm2d(num_features=512, eps=1e-05)\n",
      "          )\n",
      "          (conv3): Conv2d(\n",
      "            512, 2048, kernel_size=(1, 1), stride=(1, 1), bias=False\n",
      "            (norm): FrozenBatchNorm2d(num_features=2048, eps=1e-05)\n",
      "          )\n",
      "        )\n",
      "        (1): BottleneckBlock(\n",
      "          (conv1): Conv2d(\n",
      "            2048, 512, kernel_size=(1, 1), stride=(1, 1), bias=False\n",
      "            (norm): FrozenBatchNorm2d(num_features=512, eps=1e-05)\n",
      "          )\n",
      "          (conv2): Conv2d(\n",
      "            512, 512, kernel_size=(3, 3), stride=(1, 1), padding=(1, 1), bias=False\n",
      "            (norm): FrozenBatchNorm2d(num_features=512, eps=1e-05)\n",
      "          )\n",
      "          (conv3): Conv2d(\n",
      "            512, 2048, kernel_size=(1, 1), stride=(1, 1), bias=False\n",
      "            (norm): FrozenBatchNorm2d(num_features=2048, eps=1e-05)\n",
      "          )\n",
      "        )\n",
      "        (2): BottleneckBlock(\n",
      "          (conv1): Conv2d(\n",
      "            2048, 512, kernel_size=(1, 1), stride=(1, 1), bias=False\n",
      "            (norm): FrozenBatchNorm2d(num_features=512, eps=1e-05)\n",
      "          )\n",
      "          (conv2): Conv2d(\n",
      "            512, 512, kernel_size=(3, 3), stride=(1, 1), padding=(1, 1), bias=False\n",
      "            (norm): FrozenBatchNorm2d(num_features=512, eps=1e-05)\n",
      "          )\n",
      "          (conv3): Conv2d(\n",
      "            512, 2048, kernel_size=(1, 1), stride=(1, 1), bias=False\n",
      "            (norm): FrozenBatchNorm2d(num_features=2048, eps=1e-05)\n",
      "          )\n",
      "        )\n",
      "      )\n",
      "    )\n",
      "  )\n",
      "  (head): RetinaNetHead(\n",
      "    (cls_subnet): Sequential(\n",
      "      (0): Conv2d(256, 256, kernel_size=(3, 3), stride=(1, 1), padding=(1, 1))\n",
      "      (1): ReLU()\n",
      "      (2): Conv2d(256, 256, kernel_size=(3, 3), stride=(1, 1), padding=(1, 1))\n",
      "      (3): ReLU()\n",
      "      (4): Conv2d(256, 256, kernel_size=(3, 3), stride=(1, 1), padding=(1, 1))\n",
      "      (5): ReLU()\n",
      "      (6): Conv2d(256, 256, kernel_size=(3, 3), stride=(1, 1), padding=(1, 1))\n",
      "      (7): ReLU()\n",
      "    )\n",
      "    (bbox_subnet): Sequential(\n",
      "      (0): Conv2d(256, 256, kernel_size=(3, 3), stride=(1, 1), padding=(1, 1))\n",
      "      (1): ReLU()\n",
      "      (2): Conv2d(256, 256, kernel_size=(3, 3), stride=(1, 1), padding=(1, 1))\n",
      "      (3): ReLU()\n",
      "      (4): Conv2d(256, 256, kernel_size=(3, 3), stride=(1, 1), padding=(1, 1))\n",
      "      (5): ReLU()\n",
      "      (6): Conv2d(256, 256, kernel_size=(3, 3), stride=(1, 1), padding=(1, 1))\n",
      "      (7): ReLU()\n",
      "    )\n",
      "    (cls_score): Conv2d(256, 720, kernel_size=(3, 3), stride=(1, 1), padding=(1, 1))\n",
      "    (bbox_pred): Conv2d(256, 36, kernel_size=(3, 3), stride=(1, 1), padding=(1, 1))\n",
      "  )\n",
      "  (anchor_generator): DefaultAnchorGenerator(\n",
      "    (cell_anchors): BufferList()\n",
      "  )\n",
      ")\n",
      "[01/06 17:59:46 d2.data.build]: Removed 1 images with no usable annotations. 999 images left.\n",
      "[01/06 17:59:46 d2.data.build]: Distribution of instances among all 1 categories:\n",
      "|  category  | #instances   |\n",
      "|:----------:|:-------------|\n",
      "|    face    | 28174        |\n",
      "|            |              |\n",
      "[01/06 17:59:46 d2.data.dataset_mapper]: [DatasetMapper] Augmentations used in training: [ResizeShortestEdge(short_edge_length=(640, 672, 704, 736, 768, 800), max_size=1333, sample_style='choice'), RandomFlip()]\n",
      "[01/06 17:59:46 d2.data.build]: Using training sampler TrainingSampler\n",
      "[01/06 17:59:46 d2.data.common]: Serializing the dataset using: <class 'detectron2.data.common.NumpySerializedList'>\n",
      "[01/06 17:59:46 d2.data.common]: Serializing 999 elements to byte tensors and concatenating them all ...\n",
      "[01/06 17:59:46 d2.data.common]: Serialized dataset takes 2.93 MiB\n",
      "WARNING [01/06 17:59:46 d2.solver.build]: SOLVER.STEPS contains values larger than SOLVER.MAX_ITER. These values will be ignored.\n"
     ]
    }
   ],
   "source": [
    "# create a trainer with given config\n",
    "trainer = DefaultTrainer(cfg)"
   ]
  },
  {
   "cell_type": "code",
   "execution_count": 39,
   "id": "2eafe891-b0b9-46d1-9657-b12e34a87dbc",
   "metadata": {},
   "outputs": [
    {
     "name": "stdout",
     "output_type": "stream",
     "text": [
      "[01/06 17:59:47 d2.checkpoint.detection_checkpoint]: [DetectionCheckpointer] Loading from https://dl.fbaipublicfiles.com/detectron2/COCO-Detection/retinanet_R_50_FPN_1x/190397773/model_final_bfca0b.pkl ...\n"
     ]
    },
    {
     "name": "stderr",
     "output_type": "stream",
     "text": [
      "The checkpoint state_dict contains keys that are not used by the model:\n",
      "  pixel_mean\n",
      "  pixel_std\n"
     ]
    }
   ],
   "source": [
    "# If resume==True, and last checkpoint exists, resume from it, load all checkpointables (eg. optimizer and scheduler) and update iteration counter.\n",
    "# Otherwise, load the model specified by the config (skip all checkpointables) and start from the first iteration.\n",
    "trainer.resume_or_load(resume=False)"
   ]
  },
  {
   "cell_type": "code",
   "execution_count": 40,
   "id": "6387b792-a818-4b76-a79c-bd4d8ffa4a46",
   "metadata": {
    "scrolled": true,
    "tags": []
   },
   "outputs": [
    {
     "data": {
      "text/plain": [
       "(1000, 3)"
      ]
     },
     "execution_count": 40,
     "metadata": {},
     "output_type": "execute_result"
    }
   ],
   "source": [
    "train.shape"
   ]
  },
  {
   "cell_type": "code",
   "execution_count": 41,
   "id": "800940d9-6554-40b6-971c-6123cfd0d43d",
   "metadata": {},
   "outputs": [
    {
     "name": "stdout",
     "output_type": "stream",
     "text": [
      "[01/06 17:36:26 d2.engine.train_loop]: Starting training from iteration 0\n",
      "[01/06 17:39:32 d2.utils.events]:  eta: 0:00:00  iter: 19  total_loss: 1.31  loss_cls: 0.6804  loss_box_reg: 0.4486  time: 8.7216  data_time: 0.3879  lr: 0.00095005  max_mem: 0M\n",
      "[01/06 17:39:32 d2.engine.hooks]: Overall training speed: 18 iterations in 0:02:36 (8.7217 s / it)\n",
      "[01/06 17:39:32 d2.engine.hooks]: Total training time: 0:02:37 (0:00:00 on hooks)\n"
     ]
    }
   ],
   "source": [
    "# train the model\n",
    "trainer.train()"
   ]
  },
  {
   "cell_type": "markdown",
   "id": "d4313227-1311-4ae4-b9db-2c64553318c6",
   "metadata": {},
   "source": [
    "<h1> Preprocessing Data Test </h1>"
   ]
  },
  {
   "cell_type": "code",
   "execution_count": 41,
   "id": "325e154c-97b9-4230-b756-b60060e4ae7c",
   "metadata": {},
   "outputs": [],
   "source": [
    "for i in val['name']:\n",
    "    name_jpg = str(i).rsplit('/')[1]\n",
    "    val['name'] = val['name'].replace({i:name_jpg})"
   ]
  },
  {
   "cell_type": "code",
   "execution_count": 42,
   "id": "79a90ac2-e595-4dc1-888d-553d8e473c36",
   "metadata": {},
   "outputs": [],
   "source": [
    "for i in os.listdir(\"dataset/val/\"):\n",
    "    val.loc[val['name'] == i, 'name'] = 'dataset/val/'+i"
   ]
  },
  {
   "cell_type": "code",
   "execution_count": 43,
   "id": "256012e5-1d8e-4367-aa25-348a7ac2f403",
   "metadata": {},
   "outputs": [
    {
     "data": {
      "text/html": [
       "<div>\n",
       "<style scoped>\n",
       "    .dataframe tbody tr th:only-of-type {\n",
       "        vertical-align: middle;\n",
       "    }\n",
       "\n",
       "    .dataframe tbody tr th {\n",
       "        vertical-align: top;\n",
       "    }\n",
       "\n",
       "    .dataframe thead th {\n",
       "        text-align: right;\n",
       "    }\n",
       "</style>\n",
       "<table border=\"1\" class=\"dataframe\">\n",
       "  <thead>\n",
       "    <tr style=\"text-align: right;\">\n",
       "      <th></th>\n",
       "      <th>name</th>\n",
       "      <th>num_faces</th>\n",
       "      <th>bbox</th>\n",
       "      <th>mark</th>\n",
       "    </tr>\n",
       "  </thead>\n",
       "  <tbody>\n",
       "    <tr>\n",
       "      <th>0</th>\n",
       "      <td>0_Parade_marchingband_1_465.jpg</td>\n",
       "      <td>126</td>\n",
       "      <td>[345 211 4 4 2 0 0 0 2 0 , 331 126 3 3 0 0 0 1...</td>\n",
       "      <td>False</td>\n",
       "    </tr>\n",
       "    <tr>\n",
       "      <th>1</th>\n",
       "      <td>0_Parade_Parade_0_628.jpg</td>\n",
       "      <td>29</td>\n",
       "      <td>[26 299 10 16 2 0 0 0 2 0 , 25 329 7 11 2 0 0 ...</td>\n",
       "      <td>False</td>\n",
       "    </tr>\n",
       "    <tr>\n",
       "      <th>2</th>\n",
       "      <td>0_Parade_marchingband_1_765.jpg</td>\n",
       "      <td>132</td>\n",
       "      <td>[311 131 8 9 1 0 0 0 0 0 , 299 143 10 11 1 0 0...</td>\n",
       "      <td>False</td>\n",
       "    </tr>\n",
       "    <tr>\n",
       "      <th>3</th>\n",
       "      <td>0_Parade_Parade_0_194.jpg</td>\n",
       "      <td>5</td>\n",
       "      <td>[111 425 122 127 0 1 0 0 0 1 , 209 347 70 103 ...</td>\n",
       "      <td>False</td>\n",
       "    </tr>\n",
       "    <tr>\n",
       "      <th>4</th>\n",
       "      <td>0_Parade_marchingband_1_379.jpg</td>\n",
       "      <td>26</td>\n",
       "      <td>[281 303 20 36 2 0 0 0 2 0 , 260 324 16 21 2 0...</td>\n",
       "      <td>False</td>\n",
       "    </tr>\n",
       "    <tr>\n",
       "      <th>5</th>\n",
       "      <td>0_Parade_Parade_0_814.jpg</td>\n",
       "      <td>36</td>\n",
       "      <td>[74 417 8 9 2 0 0 0 1 0 , 54 394 4 6 0 0 0 1 0...</td>\n",
       "      <td>False</td>\n",
       "    </tr>\n",
       "    <tr>\n",
       "      <th>6</th>\n",
       "      <td>0_Parade_Parade_0_470.jpg</td>\n",
       "      <td>25</td>\n",
       "      <td>[3 152 34 51 1 0 0 0 1 0 , 36 166 85 104 0 0 0...</td>\n",
       "      <td>False</td>\n",
       "    </tr>\n",
       "    <tr>\n",
       "      <th>7</th>\n",
       "      <td>0_Parade_marchingband_1_1045.jpg</td>\n",
       "      <td>22</td>\n",
       "      <td>[1 314 12 24 2 0 0 0 1 0 , 90 273 33 33 2 0 0 ...</td>\n",
       "      <td>False</td>\n",
       "    </tr>\n",
       "    <tr>\n",
       "      <th>8</th>\n",
       "      <td>0_Parade_marchingband_1_556.jpg</td>\n",
       "      <td>13</td>\n",
       "      <td>[82 262 23 28 2 0 0 0 1 0 , 147 287 35 43 2 0 ...</td>\n",
       "      <td>False</td>\n",
       "    </tr>\n",
       "    <tr>\n",
       "      <th>9</th>\n",
       "      <td>0_Parade_Parade_0_829.jpg</td>\n",
       "      <td>1</td>\n",
       "      <td>[501 160 285 443 0 0 0 0 0 0 ]</td>\n",
       "      <td>False</td>\n",
       "    </tr>\n",
       "  </tbody>\n",
       "</table>\n",
       "</div>"
      ],
      "text/plain": [
       "                               name  num_faces  \\\n",
       "0   0_Parade_marchingband_1_465.jpg        126   \n",
       "1         0_Parade_Parade_0_628.jpg         29   \n",
       "2   0_Parade_marchingband_1_765.jpg        132   \n",
       "3         0_Parade_Parade_0_194.jpg          5   \n",
       "4   0_Parade_marchingband_1_379.jpg         26   \n",
       "5         0_Parade_Parade_0_814.jpg         36   \n",
       "6         0_Parade_Parade_0_470.jpg         25   \n",
       "7  0_Parade_marchingband_1_1045.jpg         22   \n",
       "8   0_Parade_marchingband_1_556.jpg         13   \n",
       "9         0_Parade_Parade_0_829.jpg          1   \n",
       "\n",
       "                                                bbox   mark  \n",
       "0  [345 211 4 4 2 0 0 0 2 0 , 331 126 3 3 0 0 0 1...  False  \n",
       "1  [26 299 10 16 2 0 0 0 2 0 , 25 329 7 11 2 0 0 ...  False  \n",
       "2  [311 131 8 9 1 0 0 0 0 0 , 299 143 10 11 1 0 0...  False  \n",
       "3  [111 425 122 127 0 1 0 0 0 1 , 209 347 70 103 ...  False  \n",
       "4  [281 303 20 36 2 0 0 0 2 0 , 260 324 16 21 2 0...  False  \n",
       "5  [74 417 8 9 2 0 0 0 1 0 , 54 394 4 6 0 0 0 1 0...  False  \n",
       "6  [3 152 34 51 1 0 0 0 1 0 , 36 166 85 104 0 0 0...  False  \n",
       "7  [1 314 12 24 2 0 0 0 1 0 , 90 273 33 33 2 0 0 ...  False  \n",
       "8  [82 262 23 28 2 0 0 0 1 0 , 147 287 35 43 2 0 ...  False  \n",
       "9                     [501 160 285 443 0 0 0 0 0 0 ]  False  "
      ]
     },
     "execution_count": 43,
     "metadata": {},
     "output_type": "execute_result"
    }
   ],
   "source": [
    "val['mark'] = val['name'].str.contains('dataset')\n",
    "val.head(10)"
   ]
  },
  {
   "cell_type": "code",
   "execution_count": 44,
   "id": "085ade4e-f9d5-47eb-8982-4c6c15b64738",
   "metadata": {},
   "outputs": [
    {
     "data": {
      "text/html": [
       "<div>\n",
       "<style scoped>\n",
       "    .dataframe tbody tr th:only-of-type {\n",
       "        vertical-align: middle;\n",
       "    }\n",
       "\n",
       "    .dataframe tbody tr th {\n",
       "        vertical-align: top;\n",
       "    }\n",
       "\n",
       "    .dataframe thead th {\n",
       "        text-align: right;\n",
       "    }\n",
       "</style>\n",
       "<table border=\"1\" class=\"dataframe\">\n",
       "  <thead>\n",
       "    <tr style=\"text-align: right;\">\n",
       "      <th></th>\n",
       "      <th>name</th>\n",
       "      <th>num_faces</th>\n",
       "      <th>bbox</th>\n",
       "      <th>mark</th>\n",
       "    </tr>\n",
       "  </thead>\n",
       "  <tbody>\n",
       "    <tr>\n",
       "      <th>25</th>\n",
       "      <td>dataset/val/0_Parade_marchingband_1_74.jpg</td>\n",
       "      <td>130</td>\n",
       "      <td>[190 362 34 45 1 0 0 0 0 0 , 294 321 13 14 2 0...</td>\n",
       "      <td>True</td>\n",
       "    </tr>\n",
       "    <tr>\n",
       "      <th>26</th>\n",
       "      <td>dataset/val/0_Parade_marchingband_1_234.jpg</td>\n",
       "      <td>54</td>\n",
       "      <td>[188 328 16 15 1 0 0 0 1 0 , 216 294 17 19 0 0...</td>\n",
       "      <td>True</td>\n",
       "    </tr>\n",
       "    <tr>\n",
       "      <th>33</th>\n",
       "      <td>dataset/val/0_Parade_marchingband_1_309.jpg</td>\n",
       "      <td>15</td>\n",
       "      <td>[47 90 24 24 2 0 0 0 1 0 , 127 119 26 24 2 0 0...</td>\n",
       "      <td>True</td>\n",
       "    </tr>\n",
       "    <tr>\n",
       "      <th>37</th>\n",
       "      <td>dataset/val/0_Parade_marchingband_1_188.jpg</td>\n",
       "      <td>47</td>\n",
       "      <td>[252 503 11 14 1 0 0 0 0 0 , 210 417 10 10 2 0...</td>\n",
       "      <td>True</td>\n",
       "    </tr>\n",
       "    <tr>\n",
       "      <th>40</th>\n",
       "      <td>dataset/val/0_Parade_marchingband_1_20.jpg</td>\n",
       "      <td>22</td>\n",
       "      <td>[29 401 29 36 2 0 0 0 0 0 , 255 369 32 39 1 0 ...</td>\n",
       "      <td>True</td>\n",
       "    </tr>\n",
       "  </tbody>\n",
       "</table>\n",
       "</div>"
      ],
      "text/plain": [
       "                                           name  num_faces  \\\n",
       "25   dataset/val/0_Parade_marchingband_1_74.jpg        130   \n",
       "26  dataset/val/0_Parade_marchingband_1_234.jpg         54   \n",
       "33  dataset/val/0_Parade_marchingband_1_309.jpg         15   \n",
       "37  dataset/val/0_Parade_marchingband_1_188.jpg         47   \n",
       "40   dataset/val/0_Parade_marchingband_1_20.jpg         22   \n",
       "\n",
       "                                                 bbox  mark  \n",
       "25  [190 362 34 45 1 0 0 0 0 0 , 294 321 13 14 2 0...  True  \n",
       "26  [188 328 16 15 1 0 0 0 1 0 , 216 294 17 19 0 0...  True  \n",
       "33  [47 90 24 24 2 0 0 0 1 0 , 127 119 26 24 2 0 0...  True  \n",
       "37  [252 503 11 14 1 0 0 0 0 0 , 210 417 10 10 2 0...  True  \n",
       "40  [29 401 29 36 2 0 0 0 0 0 , 255 369 32 39 1 0 ...  True  "
      ]
     },
     "execution_count": 44,
     "metadata": {},
     "output_type": "execute_result"
    }
   ],
   "source": [
    "val = val[val['mark'] == True]\n",
    "val.head()"
   ]
  },
  {
   "cell_type": "code",
   "execution_count": 46,
   "id": "9a3ed940-9d5b-4158-b5e5-407d2546111b",
   "metadata": {},
   "outputs": [],
   "source": [
    "val.drop('mark', axis=1, inplace=True)\n",
    "val.reset_index(drop=True, inplace=True)"
   ]
  },
  {
   "cell_type": "code",
   "execution_count": 47,
   "id": "6431118f-32a5-4cac-a35e-38df1026f1c7",
   "metadata": {},
   "outputs": [],
   "source": [
    "val['bbox'] = val['bbox'].apply(lambda row:[np.float_(annos.split()) for annos in row])"
   ]
  },
  {
   "cell_type": "code",
   "execution_count": 48,
   "id": "c4183416-1d37-4732-903e-760df7701975",
   "metadata": {},
   "outputs": [],
   "source": [
    "val_df = pd.DataFrame()"
   ]
  },
  {
   "cell_type": "code",
   "execution_count": 49,
   "id": "3a9f2ddb-36fc-40d5-924d-1cd8c54a53b4",
   "metadata": {},
   "outputs": [],
   "source": [
    "val_df = pd.concat([val_df, val])"
   ]
  },
  {
   "cell_type": "code",
   "execution_count": 50,
   "id": "4a3b1dc0-9ef1-418b-bfc6-dea44e44858f",
   "metadata": {},
   "outputs": [
    {
     "data": {
      "text/html": [
       "<div>\n",
       "<style scoped>\n",
       "    .dataframe tbody tr th:only-of-type {\n",
       "        vertical-align: middle;\n",
       "    }\n",
       "\n",
       "    .dataframe tbody tr th {\n",
       "        vertical-align: top;\n",
       "    }\n",
       "\n",
       "    .dataframe thead th {\n",
       "        text-align: right;\n",
       "    }\n",
       "</style>\n",
       "<table border=\"1\" class=\"dataframe\">\n",
       "  <thead>\n",
       "    <tr style=\"text-align: right;\">\n",
       "      <th></th>\n",
       "      <th>name</th>\n",
       "      <th>num_faces</th>\n",
       "      <th>bbox</th>\n",
       "    </tr>\n",
       "  </thead>\n",
       "  <tbody>\n",
       "    <tr>\n",
       "      <th>0</th>\n",
       "      <td>dataset/val/0_Parade_marchingband_1_149.jpg</td>\n",
       "      <td>24</td>\n",
       "      <td>[[213.0, 233.0, 21.0, 32.0, 1.0, 0.0, 0.0, 0.0...</td>\n",
       "    </tr>\n",
       "    <tr>\n",
       "      <th>1</th>\n",
       "      <td>dataset/val/20_Family_Group_Family_Group_20_48...</td>\n",
       "      <td>6</td>\n",
       "      <td>[[121.0, 427.0, 77.0, 98.0, 0.0, 0.0, 0.0, 0.0...</td>\n",
       "    </tr>\n",
       "    <tr>\n",
       "      <th>2</th>\n",
       "      <td>dataset/val/20_Family_Group_Family_Group_20_67...</td>\n",
       "      <td>67</td>\n",
       "      <td>[[110.0, 951.0, 24.0, 27.0, 2.0, 0.0, 0.0, 0.0...</td>\n",
       "    </tr>\n",
       "    <tr>\n",
       "      <th>3</th>\n",
       "      <td>dataset/val/20_Family_Group_Family_Group_20_64...</td>\n",
       "      <td>5</td>\n",
       "      <td>[[106.0, 498.0, 118.0, 146.0, 0.0, 0.0, 0.0, 0...</td>\n",
       "    </tr>\n",
       "    <tr>\n",
       "      <th>4</th>\n",
       "      <td>dataset/val/20_Family_Group_Family_Group_20_69...</td>\n",
       "      <td>7</td>\n",
       "      <td>[[111.0, 391.0, 83.0, 108.0, 1.0, 0.0, 0.0, 0....</td>\n",
       "    </tr>\n",
       "    <tr>\n",
       "      <th>5</th>\n",
       "      <td>dataset/val/20_Family_Group_Family_Group_20_63...</td>\n",
       "      <td>18</td>\n",
       "      <td>[[193.0, 131.0, 14.0, 23.0, 1.0, 0.0, 0.0, 0.0...</td>\n",
       "    </tr>\n",
       "    <tr>\n",
       "      <th>6</th>\n",
       "      <td>dataset/val/20_Family_Group_Family_Group_20_59...</td>\n",
       "      <td>5</td>\n",
       "      <td>[[391.0, 272.0, 89.0, 93.0, 0.0, 0.0, 0.0, 0.0...</td>\n",
       "    </tr>\n",
       "    <tr>\n",
       "      <th>7</th>\n",
       "      <td>dataset/val/20_Family_Group_Family_Group_20_54...</td>\n",
       "      <td>29</td>\n",
       "      <td>[[47.0, 280.0, 37.0, 43.0, 1.0, 0.0, 0.0, 0.0,...</td>\n",
       "    </tr>\n",
       "    <tr>\n",
       "      <th>8</th>\n",
       "      <td>dataset/val/20_Family_Group_Family_Group_20_66...</td>\n",
       "      <td>7</td>\n",
       "      <td>[[781.0, 261.0, 37.0, 48.0, 0.0, 0.0, 0.0, 0.0...</td>\n",
       "    </tr>\n",
       "    <tr>\n",
       "      <th>9</th>\n",
       "      <td>dataset/val/20_Family_Group_Family_Group_20_49...</td>\n",
       "      <td>11</td>\n",
       "      <td>[[18.0, 188.0, 45.0, 48.0, 0.0, 0.0, 0.0, 0.0,...</td>\n",
       "    </tr>\n",
       "  </tbody>\n",
       "</table>\n",
       "</div>"
      ],
      "text/plain": [
       "                                                name  num_faces  \\\n",
       "0        dataset/val/0_Parade_marchingband_1_149.jpg         24   \n",
       "1  dataset/val/20_Family_Group_Family_Group_20_48...          6   \n",
       "2  dataset/val/20_Family_Group_Family_Group_20_67...         67   \n",
       "3  dataset/val/20_Family_Group_Family_Group_20_64...          5   \n",
       "4  dataset/val/20_Family_Group_Family_Group_20_69...          7   \n",
       "5  dataset/val/20_Family_Group_Family_Group_20_63...         18   \n",
       "6  dataset/val/20_Family_Group_Family_Group_20_59...          5   \n",
       "7  dataset/val/20_Family_Group_Family_Group_20_54...         29   \n",
       "8  dataset/val/20_Family_Group_Family_Group_20_66...          7   \n",
       "9  dataset/val/20_Family_Group_Family_Group_20_49...         11   \n",
       "\n",
       "                                                bbox  \n",
       "0  [[213.0, 233.0, 21.0, 32.0, 1.0, 0.0, 0.0, 0.0...  \n",
       "1  [[121.0, 427.0, 77.0, 98.0, 0.0, 0.0, 0.0, 0.0...  \n",
       "2  [[110.0, 951.0, 24.0, 27.0, 2.0, 0.0, 0.0, 0.0...  \n",
       "3  [[106.0, 498.0, 118.0, 146.0, 0.0, 0.0, 0.0, 0...  \n",
       "4  [[111.0, 391.0, 83.0, 108.0, 1.0, 0.0, 0.0, 0....  \n",
       "5  [[193.0, 131.0, 14.0, 23.0, 1.0, 0.0, 0.0, 0.0...  \n",
       "6  [[391.0, 272.0, 89.0, 93.0, 0.0, 0.0, 0.0, 0.0...  \n",
       "7  [[47.0, 280.0, 37.0, 43.0, 1.0, 0.0, 0.0, 0.0,...  \n",
       "8  [[781.0, 261.0, 37.0, 48.0, 0.0, 0.0, 0.0, 0.0...  \n",
       "9  [[18.0, 188.0, 45.0, 48.0, 0.0, 0.0, 0.0, 0.0,...  "
      ]
     },
     "execution_count": 50,
     "metadata": {},
     "output_type": "execute_result"
    }
   ],
   "source": [
    "val_df"
   ]
  },
  {
   "cell_type": "code",
   "execution_count": 51,
   "id": "c1611282-f9a8-40cc-be5d-c7765e63331c",
   "metadata": {},
   "outputs": [],
   "source": [
    "val_annotation = create_annotation(val_df)"
   ]
  },
  {
   "cell_type": "code",
   "execution_count": 52,
   "id": "de4c29a3-6a77-49b3-ae2d-092194bff181",
   "metadata": {
    "scrolled": true,
    "tags": []
   },
   "outputs": [
    {
     "data": {
      "text/plain": [
       "{'file_name': 'dataset/val/0_Parade_marchingband_1_149.jpg',\n",
       " 'image_id': 0,\n",
       " 'height': 684,\n",
       " 'width': 1024,\n",
       " 'annotations': [{'bbox': [213.0, 233.0, 234.0, 265.0],\n",
       "   'bbox_mode': <BoxMode.XYXY_ABS: 0>,\n",
       "   'category_id': 0,\n",
       "   'iscrowd': 0},\n",
       "  {'bbox': [278.0, 228.0, 305.0, 261.0],\n",
       "   'bbox_mode': <BoxMode.XYXY_ABS: 0>,\n",
       "   'category_id': 0,\n",
       "   'iscrowd': 0},\n",
       "  {'bbox': [351.0, 235.0, 377.0, 269.0],\n",
       "   'bbox_mode': <BoxMode.XYXY_ABS: 0>,\n",
       "   'category_id': 0,\n",
       "   'iscrowd': 0},\n",
       "  {'bbox': [405.0, 221.0, 427.0, 254.0],\n",
       "   'bbox_mode': <BoxMode.XYXY_ABS: 0>,\n",
       "   'category_id': 0,\n",
       "   'iscrowd': 0},\n",
       "  {'bbox': [473.0, 231.0, 497.0, 263.0],\n",
       "   'bbox_mode': <BoxMode.XYXY_ABS: 0>,\n",
       "   'category_id': 0,\n",
       "   'iscrowd': 0},\n",
       "  {'bbox': [463.0, 304.0, 488.0, 336.0],\n",
       "   'bbox_mode': <BoxMode.XYXY_ABS: 0>,\n",
       "   'category_id': 0,\n",
       "   'iscrowd': 0},\n",
       "  {'bbox': [389.0, 305.0, 414.0, 341.0],\n",
       "   'bbox_mode': <BoxMode.XYXY_ABS: 0>,\n",
       "   'category_id': 0,\n",
       "   'iscrowd': 0},\n",
       "  {'bbox': [309.0, 312.0, 334.0, 346.0],\n",
       "   'bbox_mode': <BoxMode.XYXY_ABS: 0>,\n",
       "   'category_id': 0,\n",
       "   'iscrowd': 0},\n",
       "  {'bbox': [224.0, 312.0, 249.0, 347.0],\n",
       "   'bbox_mode': <BoxMode.XYXY_ABS: 0>,\n",
       "   'category_id': 0,\n",
       "   'iscrowd': 0},\n",
       "  {'bbox': [442.0, 371.0, 470.0, 414.0],\n",
       "   'bbox_mode': <BoxMode.XYXY_ABS: 0>,\n",
       "   'category_id': 0,\n",
       "   'iscrowd': 0},\n",
       "  {'bbox': [372.0, 376.0, 398.0, 419.0],\n",
       "   'bbox_mode': <BoxMode.XYXY_ABS: 0>,\n",
       "   'category_id': 0,\n",
       "   'iscrowd': 0},\n",
       "  {'bbox': [280.0, 383.0, 307.0, 423.0],\n",
       "   'bbox_mode': <BoxMode.XYXY_ABS: 0>,\n",
       "   'category_id': 0,\n",
       "   'iscrowd': 0},\n",
       "  {'bbox': [808.0, 236.0, 833.0, 273.0],\n",
       "   'bbox_mode': <BoxMode.XYXY_ABS: 0>,\n",
       "   'category_id': 0,\n",
       "   'iscrowd': 0},\n",
       "  {'bbox': [783.0, 313.0, 809.0, 347.0],\n",
       "   'bbox_mode': <BoxMode.XYXY_ABS: 0>,\n",
       "   'category_id': 0,\n",
       "   'iscrowd': 0},\n",
       "  {'bbox': [712.0, 385.0, 740.0, 427.0],\n",
       "   'bbox_mode': <BoxMode.XYXY_ABS: 0>,\n",
       "   'category_id': 0,\n",
       "   'iscrowd': 0},\n",
       "  {'bbox': [729.0, 235.0, 754.0, 269.0],\n",
       "   'bbox_mode': <BoxMode.XYXY_ABS: 0>,\n",
       "   'category_id': 0,\n",
       "   'iscrowd': 0},\n",
       "  {'bbox': [671.0, 316.0, 697.0, 350.0],\n",
       "   'bbox_mode': <BoxMode.XYXY_ABS: 0>,\n",
       "   'category_id': 0,\n",
       "   'iscrowd': 0},\n",
       "  {'bbox': [630.0, 376.0, 658.0, 414.0],\n",
       "   'bbox_mode': <BoxMode.XYXY_ABS: 0>,\n",
       "   'category_id': 0,\n",
       "   'iscrowd': 0},\n",
       "  {'bbox': [527.0, 382.0, 553.0, 420.0],\n",
       "   'bbox_mode': <BoxMode.XYXY_ABS: 0>,\n",
       "   'category_id': 0,\n",
       "   'iscrowd': 0},\n",
       "  {'bbox': [602.0, 319.0, 625.0, 354.0],\n",
       "   'bbox_mode': <BoxMode.XYXY_ABS: 0>,\n",
       "   'category_id': 0,\n",
       "   'iscrowd': 0},\n",
       "  {'bbox': [536.0, 300.0, 561.0, 335.0],\n",
       "   'bbox_mode': <BoxMode.XYXY_ABS: 0>,\n",
       "   'category_id': 0,\n",
       "   'iscrowd': 0},\n",
       "  {'bbox': [662.0, 233.0, 688.0, 269.0],\n",
       "   'bbox_mode': <BoxMode.XYXY_ABS: 0>,\n",
       "   'category_id': 0,\n",
       "   'iscrowd': 0},\n",
       "  {'bbox': [598.0, 237.0, 622.0, 271.0],\n",
       "   'bbox_mode': <BoxMode.XYXY_ABS: 0>,\n",
       "   'category_id': 0,\n",
       "   'iscrowd': 0},\n",
       "  {'bbox': [534.0, 219.0, 557.0, 254.0],\n",
       "   'bbox_mode': <BoxMode.XYXY_ABS: 0>,\n",
       "   'category_id': 0,\n",
       "   'iscrowd': 0}]}"
      ]
     },
     "execution_count": 52,
     "metadata": {},
     "output_type": "execute_result"
    }
   ],
   "source": [
    "val_annotation[0]"
   ]
  },
  {
   "cell_type": "code",
   "execution_count": 53,
   "id": "9341e034-19a1-4668-9990-f8143fe7a408",
   "metadata": {},
   "outputs": [],
   "source": [
    "# register validation dataset\n",
    "DatasetCatalog.register(\"face_val\", lambda d=\"val\": create_annotation(val_df))"
   ]
  },
  {
   "cell_type": "code",
   "execution_count": 54,
   "id": "60e2d7e9-eded-4bdf-b6ab-4de884d54e3e",
   "metadata": {},
   "outputs": [
    {
     "data": {
      "text/plain": [
       "namespace(name='face_val', thing_classes=['face'])"
      ]
     },
     "execution_count": 54,
     "metadata": {},
     "output_type": "execute_result"
    }
   ],
   "source": [
    "# register metadata\n",
    "MetadataCatalog.get(\"face_val\").set(thing_classes=[\"face\"])"
   ]
  },
  {
   "cell_type": "code",
   "execution_count": 55,
   "id": "4396982a-22e6-47c6-9f5f-248e2ccfae0c",
   "metadata": {},
   "outputs": [],
   "source": [
    "# load the final weights\n",
    "cfg.MODEL.WEIGHTS = os.path.join(cfg.OUTPUT_DIR, \"model_final.pth\")"
   ]
  },
  {
   "cell_type": "code",
   "execution_count": 56,
   "id": "44181061-0d7a-402e-a1ba-b76b6f8eb917",
   "metadata": {},
   "outputs": [],
   "source": [
    "# set the testing threshold for this model\n",
    "cfg.MODEL.RETINANET.SCORE_THRESH_TEST = 0.8"
   ]
  },
  {
   "cell_type": "code",
   "execution_count": 57,
   "id": "7648c76c-e342-4a49-a204-daff38ec291e",
   "metadata": {},
   "outputs": [],
   "source": [
    "# List of the dataset names for validation. Must be registered in DatasetCatalog\n",
    "cfg.DATASETS.TEST = (\"face_val\",)"
   ]
  },
  {
   "cell_type": "code",
   "execution_count": 58,
   "id": "3339476c-4d12-4b64-a116-b7f090672464",
   "metadata": {},
   "outputs": [
    {
     "name": "stdout",
     "output_type": "stream",
     "text": [
      "[01/06 17:39:55 d2.checkpoint.detection_checkpoint]: [DetectionCheckpointer] Loading from ./output\\model_final.pth ...\n"
     ]
    }
   ],
   "source": [
    "# set up predictor\n",
    "from detectron2.engine import DefaultPredictor\n",
    "# Create a simple end-to-end predictor with the given config that runs on single device for a single input image.\n",
    "predictor = DefaultPredictor(cfg)"
   ]
  },
  {
   "cell_type": "code",
   "execution_count": 59,
   "id": "0851236f-2c89-42b5-af40-555033c5a577",
   "metadata": {},
   "outputs": [],
   "source": [
    "# create standard annotations for validation data\n",
    "dataset_dicts = create_annotation(val_df)"
   ]
  },
  {
   "cell_type": "code",
   "execution_count": 60,
   "id": "fe287610-b0c4-4cd3-a41b-47537da85250",
   "metadata": {},
   "outputs": [],
   "source": [
    "# # randomly select images\n",
    "# for d in random.sample(dataset_dicts,3):    \n",
    "    \n",
    "#     # read an image\n",
    "#     im = cv.imread(d[\"file_name\"])\n",
    "    \n",
    "#     # make predictions\n",
    "#     outputs = predictor(im)\n",
    "    \n",
    "#     # create visualizer\n",
    "#     v = Visualizer(im[:, :, ::-1], metadata=face_metadata, scale=0.5)\n",
    "    \n",
    "#     # draw predictions on the image\n",
    "#     v = v.draw_instance_predictions(outputs[\"instances\"].to(\"cpu\"))\n",
    "    \n",
    "#     # display image\n",
    "#     # cv2_imshow(v.get_image()[:, :, ::-1])\n",
    "# cv.imshow('random result', v.ge)\n",
    "# cv.waitKey(0)\n",
    "# # print(outputs)"
   ]
  },
  {
   "cell_type": "code",
   "execution_count": 61,
   "id": "0a68eedc-8542-420b-9b12-bdafe13f3126",
   "metadata": {},
   "outputs": [],
   "source": [
    "from detectron2.evaluation import COCOEvaluator, inference_on_dataset\n",
    "from detectron2.data import build_detection_test_loader"
   ]
  },
  {
   "cell_type": "code",
   "execution_count": 62,
   "id": "40c885ea-b433-4117-ab59-c7763ba2d106",
   "metadata": {},
   "outputs": [
    {
     "name": "stdout",
     "output_type": "stream",
     "text": [
      "[01/06 17:39:56 d2.evaluation.coco_evaluation]: Fast COCO eval is not built. Falling back to official COCO eval.\n",
      "WARNING [01/06 17:39:56 d2.evaluation.coco_evaluation]: COCO Evaluator instantiated using config, this is deprecated behavior. Please pass in explicit arguments instead.\n",
      "[01/06 17:39:56 d2.evaluation.coco_evaluation]: Trying to convert 'face_val' to COCO format ...\n",
      "WARNING [01/06 17:39:56 d2.data.datasets.coco]: Using previously cached COCO format annotations at './output/face_val_coco_format.json'. You need to clear the cache file if your dataset has been modified.\n"
     ]
    }
   ],
   "source": [
    "# create a evaluator using COCO metrics\n",
    "evaluator = COCOEvaluator(\"face_val\", cfg, False, output_dir=\"./output/\")"
   ]
  },
  {
   "cell_type": "code",
   "execution_count": 63,
   "id": "5f05e97d-7a61-463e-965f-84006fac0599",
   "metadata": {},
   "outputs": [
    {
     "name": "stdout",
     "output_type": "stream",
     "text": [
      "[01/06 17:39:56 d2.data.build]: Distribution of instances among all 1 categories:\n",
      "|  category  | #instances   |\n",
      "|:----------:|:-------------|\n",
      "|    face    | 179          |\n",
      "|            |              |\n",
      "[01/06 17:39:56 d2.data.dataset_mapper]: [DatasetMapper] Augmentations used in inference: [ResizeShortestEdge(short_edge_length=(800, 800), max_size=1333, sample_style='choice')]\n",
      "[01/06 17:39:56 d2.data.common]: Serializing the dataset using: <class 'detectron2.data.common.NumpySerializedList'>\n",
      "[01/06 17:39:56 d2.data.common]: Serializing 10 elements to byte tensors and concatenating them all ...\n",
      "[01/06 17:39:56 d2.data.common]: Serialized dataset takes 0.02 MiB\n"
     ]
    }
   ],
   "source": [
    "# create a loader for test data\n",
    "val_loader = build_detection_test_loader(cfg, \"face_val\")"
   ]
  },
  {
   "cell_type": "code",
   "execution_count": 65,
   "id": "f50622d7-be44-4664-8bce-322cd86a90c3",
   "metadata": {},
   "outputs": [
    {
     "name": "stdout",
     "output_type": "stream",
     "text": [
      "[01/06 17:40:18 d2.evaluation.evaluator]: Start inference on 10 batches\n"
     ]
    },
    {
     "ename": "RuntimeError",
     "evalue": "DataLoader worker (pid(s) 9428, 20296, 12504, 11744) exited unexpectedly",
     "output_type": "error",
     "traceback": [
      "\u001b[1;31m---------------------------------------------------------------------------\u001b[0m",
      "\u001b[1;31mEmpty\u001b[0m                                     Traceback (most recent call last)",
      "\u001b[1;32m~\\anaconda3\\lib\\site-packages\\torch\\utils\\data\\dataloader.py\u001b[0m in \u001b[0;36m_try_get_data\u001b[1;34m(self, timeout)\u001b[0m\n\u001b[0;32m    989\u001b[0m         \u001b[1;32mtry\u001b[0m\u001b[1;33m:\u001b[0m\u001b[1;33m\u001b[0m\u001b[1;33m\u001b[0m\u001b[0m\n\u001b[1;32m--> 990\u001b[1;33m             \u001b[0mdata\u001b[0m \u001b[1;33m=\u001b[0m \u001b[0mself\u001b[0m\u001b[1;33m.\u001b[0m\u001b[0m_data_queue\u001b[0m\u001b[1;33m.\u001b[0m\u001b[0mget\u001b[0m\u001b[1;33m(\u001b[0m\u001b[0mtimeout\u001b[0m\u001b[1;33m=\u001b[0m\u001b[0mtimeout\u001b[0m\u001b[1;33m)\u001b[0m\u001b[1;33m\u001b[0m\u001b[1;33m\u001b[0m\u001b[0m\n\u001b[0m\u001b[0;32m    991\u001b[0m             \u001b[1;32mreturn\u001b[0m \u001b[1;33m(\u001b[0m\u001b[1;32mTrue\u001b[0m\u001b[1;33m,\u001b[0m \u001b[0mdata\u001b[0m\u001b[1;33m)\u001b[0m\u001b[1;33m\u001b[0m\u001b[1;33m\u001b[0m\u001b[0m\n",
      "\u001b[1;32m~\\anaconda3\\lib\\multiprocessing\\queues.py\u001b[0m in \u001b[0;36mget\u001b[1;34m(self, block, timeout)\u001b[0m\n\u001b[0;32m    113\u001b[0m                     \u001b[1;32mif\u001b[0m \u001b[1;32mnot\u001b[0m \u001b[0mself\u001b[0m\u001b[1;33m.\u001b[0m\u001b[0m_poll\u001b[0m\u001b[1;33m(\u001b[0m\u001b[0mtimeout\u001b[0m\u001b[1;33m)\u001b[0m\u001b[1;33m:\u001b[0m\u001b[1;33m\u001b[0m\u001b[1;33m\u001b[0m\u001b[0m\n\u001b[1;32m--> 114\u001b[1;33m                         \u001b[1;32mraise\u001b[0m \u001b[0mEmpty\u001b[0m\u001b[1;33m\u001b[0m\u001b[1;33m\u001b[0m\u001b[0m\n\u001b[0m\u001b[0;32m    115\u001b[0m                 \u001b[1;32melif\u001b[0m \u001b[1;32mnot\u001b[0m \u001b[0mself\u001b[0m\u001b[1;33m.\u001b[0m\u001b[0m_poll\u001b[0m\u001b[1;33m(\u001b[0m\u001b[1;33m)\u001b[0m\u001b[1;33m:\u001b[0m\u001b[1;33m\u001b[0m\u001b[1;33m\u001b[0m\u001b[0m\n",
      "\u001b[1;31mEmpty\u001b[0m: ",
      "\nThe above exception was the direct cause of the following exception:\n",
      "\u001b[1;31mRuntimeError\u001b[0m                              Traceback (most recent call last)",
      "\u001b[1;32m~\\AppData\\Local\\Temp\\ipykernel_19048\\331706566.py\u001b[0m in \u001b[0;36m<module>\u001b[1;34m\u001b[0m\n\u001b[0;32m      1\u001b[0m \u001b[1;31m# runs the model on each image in the test data and produces the results\u001b[0m\u001b[1;33m\u001b[0m\u001b[1;33m\u001b[0m\u001b[0m\n\u001b[1;32m----> 2\u001b[1;33m \u001b[0meval_results\u001b[0m \u001b[1;33m=\u001b[0m \u001b[0minference_on_dataset\u001b[0m\u001b[1;33m(\u001b[0m\u001b[0mtrainer\u001b[0m\u001b[1;33m.\u001b[0m\u001b[0mmodel\u001b[0m\u001b[1;33m,\u001b[0m \u001b[0mval_loader\u001b[0m\u001b[1;33m,\u001b[0m \u001b[0mevaluator\u001b[0m\u001b[1;33m)\u001b[0m\u001b[1;33m\u001b[0m\u001b[1;33m\u001b[0m\u001b[0m\n\u001b[0m\u001b[0;32m      3\u001b[0m \u001b[0meval_results\u001b[0m\u001b[1;33m\u001b[0m\u001b[1;33m\u001b[0m\u001b[0m\n",
      "\u001b[1;32mc:\\users\\asus\\detectron2\\detectron2\\evaluation\\evaluator.py\u001b[0m in \u001b[0;36minference_on_dataset\u001b[1;34m(model, data_loader, evaluator)\u001b[0m\n\u001b[0;32m    147\u001b[0m \u001b[1;33m\u001b[0m\u001b[0m\n\u001b[0;32m    148\u001b[0m         \u001b[0mstart_data_time\u001b[0m \u001b[1;33m=\u001b[0m \u001b[0mtime\u001b[0m\u001b[1;33m.\u001b[0m\u001b[0mperf_counter\u001b[0m\u001b[1;33m(\u001b[0m\u001b[1;33m)\u001b[0m\u001b[1;33m\u001b[0m\u001b[1;33m\u001b[0m\u001b[0m\n\u001b[1;32m--> 149\u001b[1;33m         \u001b[1;32mfor\u001b[0m \u001b[0midx\u001b[0m\u001b[1;33m,\u001b[0m \u001b[0minputs\u001b[0m \u001b[1;32min\u001b[0m \u001b[0menumerate\u001b[0m\u001b[1;33m(\u001b[0m\u001b[0mdata_loader\u001b[0m\u001b[1;33m)\u001b[0m\u001b[1;33m:\u001b[0m\u001b[1;33m\u001b[0m\u001b[1;33m\u001b[0m\u001b[0m\n\u001b[0m\u001b[0;32m    150\u001b[0m             \u001b[0mtotal_data_time\u001b[0m \u001b[1;33m+=\u001b[0m \u001b[0mtime\u001b[0m\u001b[1;33m.\u001b[0m\u001b[0mperf_counter\u001b[0m\u001b[1;33m(\u001b[0m\u001b[1;33m)\u001b[0m \u001b[1;33m-\u001b[0m \u001b[0mstart_data_time\u001b[0m\u001b[1;33m\u001b[0m\u001b[1;33m\u001b[0m\u001b[0m\n\u001b[0;32m    151\u001b[0m             \u001b[1;32mif\u001b[0m \u001b[0midx\u001b[0m \u001b[1;33m==\u001b[0m \u001b[0mnum_warmup\u001b[0m\u001b[1;33m:\u001b[0m\u001b[1;33m\u001b[0m\u001b[1;33m\u001b[0m\u001b[0m\n",
      "\u001b[1;32m~\\anaconda3\\lib\\site-packages\\torch\\utils\\data\\dataloader.py\u001b[0m in \u001b[0;36m__next__\u001b[1;34m(self)\u001b[0m\n\u001b[0;32m    519\u001b[0m             \u001b[1;32mif\u001b[0m \u001b[0mself\u001b[0m\u001b[1;33m.\u001b[0m\u001b[0m_sampler_iter\u001b[0m \u001b[1;32mis\u001b[0m \u001b[1;32mNone\u001b[0m\u001b[1;33m:\u001b[0m\u001b[1;33m\u001b[0m\u001b[1;33m\u001b[0m\u001b[0m\n\u001b[0;32m    520\u001b[0m                 \u001b[0mself\u001b[0m\u001b[1;33m.\u001b[0m\u001b[0m_reset\u001b[0m\u001b[1;33m(\u001b[0m\u001b[1;33m)\u001b[0m\u001b[1;33m\u001b[0m\u001b[1;33m\u001b[0m\u001b[0m\n\u001b[1;32m--> 521\u001b[1;33m             \u001b[0mdata\u001b[0m \u001b[1;33m=\u001b[0m \u001b[0mself\u001b[0m\u001b[1;33m.\u001b[0m\u001b[0m_next_data\u001b[0m\u001b[1;33m(\u001b[0m\u001b[1;33m)\u001b[0m\u001b[1;33m\u001b[0m\u001b[1;33m\u001b[0m\u001b[0m\n\u001b[0m\u001b[0;32m    522\u001b[0m             \u001b[0mself\u001b[0m\u001b[1;33m.\u001b[0m\u001b[0m_num_yielded\u001b[0m \u001b[1;33m+=\u001b[0m \u001b[1;36m1\u001b[0m\u001b[1;33m\u001b[0m\u001b[1;33m\u001b[0m\u001b[0m\n\u001b[0;32m    523\u001b[0m             \u001b[1;32mif\u001b[0m \u001b[0mself\u001b[0m\u001b[1;33m.\u001b[0m\u001b[0m_dataset_kind\u001b[0m \u001b[1;33m==\u001b[0m \u001b[0m_DatasetKind\u001b[0m\u001b[1;33m.\u001b[0m\u001b[0mIterable\u001b[0m \u001b[1;32mand\u001b[0m\u001b[0;31m \u001b[0m\u001b[0;31m\\\u001b[0m\u001b[1;33m\u001b[0m\u001b[1;33m\u001b[0m\u001b[0m\n",
      "\u001b[1;32m~\\anaconda3\\lib\\site-packages\\torch\\utils\\data\\dataloader.py\u001b[0m in \u001b[0;36m_next_data\u001b[1;34m(self)\u001b[0m\n\u001b[0;32m   1184\u001b[0m \u001b[1;33m\u001b[0m\u001b[0m\n\u001b[0;32m   1185\u001b[0m             \u001b[1;32massert\u001b[0m \u001b[1;32mnot\u001b[0m \u001b[0mself\u001b[0m\u001b[1;33m.\u001b[0m\u001b[0m_shutdown\u001b[0m \u001b[1;32mand\u001b[0m \u001b[0mself\u001b[0m\u001b[1;33m.\u001b[0m\u001b[0m_tasks_outstanding\u001b[0m \u001b[1;33m>\u001b[0m \u001b[1;36m0\u001b[0m\u001b[1;33m\u001b[0m\u001b[1;33m\u001b[0m\u001b[0m\n\u001b[1;32m-> 1186\u001b[1;33m             \u001b[0midx\u001b[0m\u001b[1;33m,\u001b[0m \u001b[0mdata\u001b[0m \u001b[1;33m=\u001b[0m \u001b[0mself\u001b[0m\u001b[1;33m.\u001b[0m\u001b[0m_get_data\u001b[0m\u001b[1;33m(\u001b[0m\u001b[1;33m)\u001b[0m\u001b[1;33m\u001b[0m\u001b[1;33m\u001b[0m\u001b[0m\n\u001b[0m\u001b[0;32m   1187\u001b[0m             \u001b[0mself\u001b[0m\u001b[1;33m.\u001b[0m\u001b[0m_tasks_outstanding\u001b[0m \u001b[1;33m-=\u001b[0m \u001b[1;36m1\u001b[0m\u001b[1;33m\u001b[0m\u001b[1;33m\u001b[0m\u001b[0m\n\u001b[0;32m   1188\u001b[0m             \u001b[1;32mif\u001b[0m \u001b[0mself\u001b[0m\u001b[1;33m.\u001b[0m\u001b[0m_dataset_kind\u001b[0m \u001b[1;33m==\u001b[0m \u001b[0m_DatasetKind\u001b[0m\u001b[1;33m.\u001b[0m\u001b[0mIterable\u001b[0m\u001b[1;33m:\u001b[0m\u001b[1;33m\u001b[0m\u001b[1;33m\u001b[0m\u001b[0m\n",
      "\u001b[1;32m~\\anaconda3\\lib\\site-packages\\torch\\utils\\data\\dataloader.py\u001b[0m in \u001b[0;36m_get_data\u001b[1;34m(self)\u001b[0m\n\u001b[0;32m   1150\u001b[0m         \u001b[1;32melse\u001b[0m\u001b[1;33m:\u001b[0m\u001b[1;33m\u001b[0m\u001b[1;33m\u001b[0m\u001b[0m\n\u001b[0;32m   1151\u001b[0m             \u001b[1;32mwhile\u001b[0m \u001b[1;32mTrue\u001b[0m\u001b[1;33m:\u001b[0m\u001b[1;33m\u001b[0m\u001b[1;33m\u001b[0m\u001b[0m\n\u001b[1;32m-> 1152\u001b[1;33m                 \u001b[0msuccess\u001b[0m\u001b[1;33m,\u001b[0m \u001b[0mdata\u001b[0m \u001b[1;33m=\u001b[0m \u001b[0mself\u001b[0m\u001b[1;33m.\u001b[0m\u001b[0m_try_get_data\u001b[0m\u001b[1;33m(\u001b[0m\u001b[1;33m)\u001b[0m\u001b[1;33m\u001b[0m\u001b[1;33m\u001b[0m\u001b[0m\n\u001b[0m\u001b[0;32m   1153\u001b[0m                 \u001b[1;32mif\u001b[0m \u001b[0msuccess\u001b[0m\u001b[1;33m:\u001b[0m\u001b[1;33m\u001b[0m\u001b[1;33m\u001b[0m\u001b[0m\n\u001b[0;32m   1154\u001b[0m                     \u001b[1;32mreturn\u001b[0m \u001b[0mdata\u001b[0m\u001b[1;33m\u001b[0m\u001b[1;33m\u001b[0m\u001b[0m\n",
      "\u001b[1;32m~\\anaconda3\\lib\\site-packages\\torch\\utils\\data\\dataloader.py\u001b[0m in \u001b[0;36m_try_get_data\u001b[1;34m(self, timeout)\u001b[0m\n\u001b[0;32m   1001\u001b[0m             \u001b[1;32mif\u001b[0m \u001b[0mlen\u001b[0m\u001b[1;33m(\u001b[0m\u001b[0mfailed_workers\u001b[0m\u001b[1;33m)\u001b[0m \u001b[1;33m>\u001b[0m \u001b[1;36m0\u001b[0m\u001b[1;33m:\u001b[0m\u001b[1;33m\u001b[0m\u001b[1;33m\u001b[0m\u001b[0m\n\u001b[0;32m   1002\u001b[0m                 \u001b[0mpids_str\u001b[0m \u001b[1;33m=\u001b[0m \u001b[1;34m', '\u001b[0m\u001b[1;33m.\u001b[0m\u001b[0mjoin\u001b[0m\u001b[1;33m(\u001b[0m\u001b[0mstr\u001b[0m\u001b[1;33m(\u001b[0m\u001b[0mw\u001b[0m\u001b[1;33m.\u001b[0m\u001b[0mpid\u001b[0m\u001b[1;33m)\u001b[0m \u001b[1;32mfor\u001b[0m \u001b[0mw\u001b[0m \u001b[1;32min\u001b[0m \u001b[0mfailed_workers\u001b[0m\u001b[1;33m)\u001b[0m\u001b[1;33m\u001b[0m\u001b[1;33m\u001b[0m\u001b[0m\n\u001b[1;32m-> 1003\u001b[1;33m                 \u001b[1;32mraise\u001b[0m \u001b[0mRuntimeError\u001b[0m\u001b[1;33m(\u001b[0m\u001b[1;34m'DataLoader worker (pid(s) {}) exited unexpectedly'\u001b[0m\u001b[1;33m.\u001b[0m\u001b[0mformat\u001b[0m\u001b[1;33m(\u001b[0m\u001b[0mpids_str\u001b[0m\u001b[1;33m)\u001b[0m\u001b[1;33m)\u001b[0m \u001b[1;32mfrom\u001b[0m \u001b[0me\u001b[0m\u001b[1;33m\u001b[0m\u001b[1;33m\u001b[0m\u001b[0m\n\u001b[0m\u001b[0;32m   1004\u001b[0m             \u001b[1;32mif\u001b[0m \u001b[0misinstance\u001b[0m\u001b[1;33m(\u001b[0m\u001b[0me\u001b[0m\u001b[1;33m,\u001b[0m \u001b[0mqueue\u001b[0m\u001b[1;33m.\u001b[0m\u001b[0mEmpty\u001b[0m\u001b[1;33m)\u001b[0m\u001b[1;33m:\u001b[0m\u001b[1;33m\u001b[0m\u001b[1;33m\u001b[0m\u001b[0m\n\u001b[0;32m   1005\u001b[0m                 \u001b[1;32mreturn\u001b[0m \u001b[1;33m(\u001b[0m\u001b[1;32mFalse\u001b[0m\u001b[1;33m,\u001b[0m \u001b[1;32mNone\u001b[0m\u001b[1;33m)\u001b[0m\u001b[1;33m\u001b[0m\u001b[1;33m\u001b[0m\u001b[0m\n",
      "\u001b[1;31mRuntimeError\u001b[0m: DataLoader worker (pid(s) 9428, 20296, 12504, 11744) exited unexpectedly"
     ]
    }
   ],
   "source": [
    "# runs the model on each image in the test data and produces the results\n",
    "eval_results = inference_on_dataset(trainer.model, val_loader, evaluator)\n",
    "eval_results"
   ]
  },
  {
   "cell_type": "code",
   "execution_count": null,
   "id": "7a97896c-2113-4fdc-b1ad-c3e01f4b35ad",
   "metadata": {},
   "outputs": [],
   "source": []
  }
 ],
 "metadata": {
  "kernelspec": {
   "display_name": "Python 3 (ipykernel)",
   "language": "python",
   "name": "python3"
  },
  "language_info": {
   "codemirror_mode": {
    "name": "ipython",
    "version": 3
   },
   "file_extension": ".py",
   "mimetype": "text/x-python",
   "name": "python",
   "nbconvert_exporter": "python",
   "pygments_lexer": "ipython3",
   "version": "3.8.15 (default, Nov 24 2022, 14:38:14) [MSC v.1916 64 bit (AMD64)]"
  },
  "vscode": {
   "interpreter": {
    "hash": "458b8996cdd34f78fce55403bef34190415ef8497c8a4c2a236c47a4dd4dea6d"
   }
  }
 },
 "nbformat": 4,
 "nbformat_minor": 5
}
